{
  "nbformat": 4,
  "nbformat_minor": 0,
  "metadata": {
    "colab": {
      "provenance": [],
      "toc_visible": true
    },
    "kernelspec": {
      "name": "python3",
      "display_name": "Python 3"
    },
    "language_info": {
      "name": "python"
    }
  },
  "cells": [
    {
      "cell_type": "code",
      "execution_count": null,
      "metadata": {
        "id": "WnFgCxJAuvSd"
      },
      "outputs": [],
      "source": [
        "import pyspark"
      ]
    },
    {
      "cell_type": "code",
      "source": [
        "from pyspark.sql import SparkSession\n",
        "from pyspark.sql.functions import *"
      ],
      "metadata": {
        "id": "VNUvlwzPw_45"
      },
      "execution_count": null,
      "outputs": []
    },
    {
      "cell_type": "code",
      "source": [
        "spark =SparkSession.builder.appName('3thanwy').getOrCreate()"
      ],
      "metadata": {
        "id": "JP5At3eMxgSg"
      },
      "execution_count": null,
      "outputs": []
    },
    {
      "cell_type": "code",
      "source": [
        "import pandas as pd"
      ],
      "metadata": {
        "id": "lp20s_me6S8r"
      },
      "execution_count": null,
      "outputs": []
    },
    {
      "cell_type": "code",
      "source": [
        "dff=pd.read_excel(\"/نتيجة الثانوية العامة 2025.xlsx\")"
      ],
      "metadata": {
        "id": "nJMtIZ-56cEt"
      },
      "execution_count": null,
      "outputs": []
    },
    {
      "cell_type": "code",
      "source": [
        "dff.head()"
      ],
      "metadata": {
        "colab": {
          "base_uri": "https://localhost:8080/",
          "height": 206
        },
        "id": "10qMDDy46mO3",
        "outputId": "22de8b6e-ff8a-4341-96be-1d73dd212387"
      },
      "execution_count": null,
      "outputs": [
        {
          "output_type": "execute_result",
          "data": {
            "text/plain": [
              "   seating_no                 arabic_name  total_degree\n",
              "0     1001660    محمد ابو الحسن حسن مصطفى         163.5\n",
              "1     1001661      محمد احمد محمد ابو زيد         187.5\n",
              "2     1001662    محمد على محمود عبدالعزيز         168.0\n",
              "3     1001663    محمود سيد انور محمد حامد         212.0\n",
              "4     1001664  محمود عطيه محمود جابر حجاج         154.0"
            ],
            "text/html": [
              "\n",
              "  <div id=\"df-01452a26-f997-41fe-bdb9-03406c6f6159\" class=\"colab-df-container\">\n",
              "    <div>\n",
              "<style scoped>\n",
              "    .dataframe tbody tr th:only-of-type {\n",
              "        vertical-align: middle;\n",
              "    }\n",
              "\n",
              "    .dataframe tbody tr th {\n",
              "        vertical-align: top;\n",
              "    }\n",
              "\n",
              "    .dataframe thead th {\n",
              "        text-align: right;\n",
              "    }\n",
              "</style>\n",
              "<table border=\"1\" class=\"dataframe\">\n",
              "  <thead>\n",
              "    <tr style=\"text-align: right;\">\n",
              "      <th></th>\n",
              "      <th>seating_no</th>\n",
              "      <th>arabic_name</th>\n",
              "      <th>total_degree</th>\n",
              "    </tr>\n",
              "  </thead>\n",
              "  <tbody>\n",
              "    <tr>\n",
              "      <th>0</th>\n",
              "      <td>1001660</td>\n",
              "      <td>محمد ابو الحسن حسن مصطفى</td>\n",
              "      <td>163.5</td>\n",
              "    </tr>\n",
              "    <tr>\n",
              "      <th>1</th>\n",
              "      <td>1001661</td>\n",
              "      <td>محمد احمد محمد ابو زيد</td>\n",
              "      <td>187.5</td>\n",
              "    </tr>\n",
              "    <tr>\n",
              "      <th>2</th>\n",
              "      <td>1001662</td>\n",
              "      <td>محمد على محمود عبدالعزيز</td>\n",
              "      <td>168.0</td>\n",
              "    </tr>\n",
              "    <tr>\n",
              "      <th>3</th>\n",
              "      <td>1001663</td>\n",
              "      <td>محمود سيد انور محمد حامد</td>\n",
              "      <td>212.0</td>\n",
              "    </tr>\n",
              "    <tr>\n",
              "      <th>4</th>\n",
              "      <td>1001664</td>\n",
              "      <td>محمود عطيه محمود جابر حجاج</td>\n",
              "      <td>154.0</td>\n",
              "    </tr>\n",
              "  </tbody>\n",
              "</table>\n",
              "</div>\n",
              "    <div class=\"colab-df-buttons\">\n",
              "\n",
              "  <div class=\"colab-df-container\">\n",
              "    <button class=\"colab-df-convert\" onclick=\"convertToInteractive('df-01452a26-f997-41fe-bdb9-03406c6f6159')\"\n",
              "            title=\"Convert this dataframe to an interactive table.\"\n",
              "            style=\"display:none;\">\n",
              "\n",
              "  <svg xmlns=\"http://www.w3.org/2000/svg\" height=\"24px\" viewBox=\"0 -960 960 960\">\n",
              "    <path d=\"M120-120v-720h720v720H120Zm60-500h600v-160H180v160Zm220 220h160v-160H400v160Zm0 220h160v-160H400v160ZM180-400h160v-160H180v160Zm440 0h160v-160H620v160ZM180-180h160v-160H180v160Zm440 0h160v-160H620v160Z\"/>\n",
              "  </svg>\n",
              "    </button>\n",
              "\n",
              "  <style>\n",
              "    .colab-df-container {\n",
              "      display:flex;\n",
              "      gap: 12px;\n",
              "    }\n",
              "\n",
              "    .colab-df-convert {\n",
              "      background-color: #E8F0FE;\n",
              "      border: none;\n",
              "      border-radius: 50%;\n",
              "      cursor: pointer;\n",
              "      display: none;\n",
              "      fill: #1967D2;\n",
              "      height: 32px;\n",
              "      padding: 0 0 0 0;\n",
              "      width: 32px;\n",
              "    }\n",
              "\n",
              "    .colab-df-convert:hover {\n",
              "      background-color: #E2EBFA;\n",
              "      box-shadow: 0px 1px 2px rgba(60, 64, 67, 0.3), 0px 1px 3px 1px rgba(60, 64, 67, 0.15);\n",
              "      fill: #174EA6;\n",
              "    }\n",
              "\n",
              "    .colab-df-buttons div {\n",
              "      margin-bottom: 4px;\n",
              "    }\n",
              "\n",
              "    [theme=dark] .colab-df-convert {\n",
              "      background-color: #3B4455;\n",
              "      fill: #D2E3FC;\n",
              "    }\n",
              "\n",
              "    [theme=dark] .colab-df-convert:hover {\n",
              "      background-color: #434B5C;\n",
              "      box-shadow: 0px 1px 3px 1px rgba(0, 0, 0, 0.15);\n",
              "      filter: drop-shadow(0px 1px 2px rgba(0, 0, 0, 0.3));\n",
              "      fill: #FFFFFF;\n",
              "    }\n",
              "  </style>\n",
              "\n",
              "    <script>\n",
              "      const buttonEl =\n",
              "        document.querySelector('#df-01452a26-f997-41fe-bdb9-03406c6f6159 button.colab-df-convert');\n",
              "      buttonEl.style.display =\n",
              "        google.colab.kernel.accessAllowed ? 'block' : 'none';\n",
              "\n",
              "      async function convertToInteractive(key) {\n",
              "        const element = document.querySelector('#df-01452a26-f997-41fe-bdb9-03406c6f6159');\n",
              "        const dataTable =\n",
              "          await google.colab.kernel.invokeFunction('convertToInteractive',\n",
              "                                                    [key], {});\n",
              "        if (!dataTable) return;\n",
              "\n",
              "        const docLinkHtml = 'Like what you see? Visit the ' +\n",
              "          '<a target=\"_blank\" href=https://colab.research.google.com/notebooks/data_table.ipynb>data table notebook</a>'\n",
              "          + ' to learn more about interactive tables.';\n",
              "        element.innerHTML = '';\n",
              "        dataTable['output_type'] = 'display_data';\n",
              "        await google.colab.output.renderOutput(dataTable, element);\n",
              "        const docLink = document.createElement('div');\n",
              "        docLink.innerHTML = docLinkHtml;\n",
              "        element.appendChild(docLink);\n",
              "      }\n",
              "    </script>\n",
              "  </div>\n",
              "\n",
              "\n",
              "    <div id=\"df-98e10bef-251a-4584-948c-2518bee2d2d4\">\n",
              "      <button class=\"colab-df-quickchart\" onclick=\"quickchart('df-98e10bef-251a-4584-948c-2518bee2d2d4')\"\n",
              "                title=\"Suggest charts\"\n",
              "                style=\"display:none;\">\n",
              "\n",
              "<svg xmlns=\"http://www.w3.org/2000/svg\" height=\"24px\"viewBox=\"0 0 24 24\"\n",
              "     width=\"24px\">\n",
              "    <g>\n",
              "        <path d=\"M19 3H5c-1.1 0-2 .9-2 2v14c0 1.1.9 2 2 2h14c1.1 0 2-.9 2-2V5c0-1.1-.9-2-2-2zM9 17H7v-7h2v7zm4 0h-2V7h2v10zm4 0h-2v-4h2v4z\"/>\n",
              "    </g>\n",
              "</svg>\n",
              "      </button>\n",
              "\n",
              "<style>\n",
              "  .colab-df-quickchart {\n",
              "      --bg-color: #E8F0FE;\n",
              "      --fill-color: #1967D2;\n",
              "      --hover-bg-color: #E2EBFA;\n",
              "      --hover-fill-color: #174EA6;\n",
              "      --disabled-fill-color: #AAA;\n",
              "      --disabled-bg-color: #DDD;\n",
              "  }\n",
              "\n",
              "  [theme=dark] .colab-df-quickchart {\n",
              "      --bg-color: #3B4455;\n",
              "      --fill-color: #D2E3FC;\n",
              "      --hover-bg-color: #434B5C;\n",
              "      --hover-fill-color: #FFFFFF;\n",
              "      --disabled-bg-color: #3B4455;\n",
              "      --disabled-fill-color: #666;\n",
              "  }\n",
              "\n",
              "  .colab-df-quickchart {\n",
              "    background-color: var(--bg-color);\n",
              "    border: none;\n",
              "    border-radius: 50%;\n",
              "    cursor: pointer;\n",
              "    display: none;\n",
              "    fill: var(--fill-color);\n",
              "    height: 32px;\n",
              "    padding: 0;\n",
              "    width: 32px;\n",
              "  }\n",
              "\n",
              "  .colab-df-quickchart:hover {\n",
              "    background-color: var(--hover-bg-color);\n",
              "    box-shadow: 0 1px 2px rgba(60, 64, 67, 0.3), 0 1px 3px 1px rgba(60, 64, 67, 0.15);\n",
              "    fill: var(--button-hover-fill-color);\n",
              "  }\n",
              "\n",
              "  .colab-df-quickchart-complete:disabled,\n",
              "  .colab-df-quickchart-complete:disabled:hover {\n",
              "    background-color: var(--disabled-bg-color);\n",
              "    fill: var(--disabled-fill-color);\n",
              "    box-shadow: none;\n",
              "  }\n",
              "\n",
              "  .colab-df-spinner {\n",
              "    border: 2px solid var(--fill-color);\n",
              "    border-color: transparent;\n",
              "    border-bottom-color: var(--fill-color);\n",
              "    animation:\n",
              "      spin 1s steps(1) infinite;\n",
              "  }\n",
              "\n",
              "  @keyframes spin {\n",
              "    0% {\n",
              "      border-color: transparent;\n",
              "      border-bottom-color: var(--fill-color);\n",
              "      border-left-color: var(--fill-color);\n",
              "    }\n",
              "    20% {\n",
              "      border-color: transparent;\n",
              "      border-left-color: var(--fill-color);\n",
              "      border-top-color: var(--fill-color);\n",
              "    }\n",
              "    30% {\n",
              "      border-color: transparent;\n",
              "      border-left-color: var(--fill-color);\n",
              "      border-top-color: var(--fill-color);\n",
              "      border-right-color: var(--fill-color);\n",
              "    }\n",
              "    40% {\n",
              "      border-color: transparent;\n",
              "      border-right-color: var(--fill-color);\n",
              "      border-top-color: var(--fill-color);\n",
              "    }\n",
              "    60% {\n",
              "      border-color: transparent;\n",
              "      border-right-color: var(--fill-color);\n",
              "    }\n",
              "    80% {\n",
              "      border-color: transparent;\n",
              "      border-right-color: var(--fill-color);\n",
              "      border-bottom-color: var(--fill-color);\n",
              "    }\n",
              "    90% {\n",
              "      border-color: transparent;\n",
              "      border-bottom-color: var(--fill-color);\n",
              "    }\n",
              "  }\n",
              "</style>\n",
              "\n",
              "      <script>\n",
              "        async function quickchart(key) {\n",
              "          const quickchartButtonEl =\n",
              "            document.querySelector('#' + key + ' button');\n",
              "          quickchartButtonEl.disabled = true;  // To prevent multiple clicks.\n",
              "          quickchartButtonEl.classList.add('colab-df-spinner');\n",
              "          try {\n",
              "            const charts = await google.colab.kernel.invokeFunction(\n",
              "                'suggestCharts', [key], {});\n",
              "          } catch (error) {\n",
              "            console.error('Error during call to suggestCharts:', error);\n",
              "          }\n",
              "          quickchartButtonEl.classList.remove('colab-df-spinner');\n",
              "          quickchartButtonEl.classList.add('colab-df-quickchart-complete');\n",
              "        }\n",
              "        (() => {\n",
              "          let quickchartButtonEl =\n",
              "            document.querySelector('#df-98e10bef-251a-4584-948c-2518bee2d2d4 button');\n",
              "          quickchartButtonEl.style.display =\n",
              "            google.colab.kernel.accessAllowed ? 'block' : 'none';\n",
              "        })();\n",
              "      </script>\n",
              "    </div>\n",
              "\n",
              "    </div>\n",
              "  </div>\n"
            ],
            "application/vnd.google.colaboratory.intrinsic+json": {
              "type": "dataframe",
              "variable_name": "dff"
            }
          },
          "metadata": {},
          "execution_count": 9
        }
      ]
    },
    {
      "cell_type": "code",
      "source": [
        "df = spark.createDataFrame(dff)"
      ],
      "metadata": {
        "id": "jMJm3Ozt7LlC"
      },
      "execution_count": null,
      "outputs": []
    },
    {
      "cell_type": "code",
      "source": [
        "df1=df.na.drop(subset=[\"total_degree\"])"
      ],
      "metadata": {
        "id": "tKYz-QYUUGxA"
      },
      "execution_count": null,
      "outputs": []
    },
    {
      "cell_type": "code",
      "source": [
        "df1.filter(col(\"total_degree\").isNull()).show()"
      ],
      "metadata": {
        "colab": {
          "base_uri": "https://localhost:8080/"
        },
        "id": "y577fTgPVnSA",
        "outputId": "1accde2f-7db8-4aaa-d4a1-c34c9a0930e4"
      },
      "execution_count": null,
      "outputs": [
        {
          "output_type": "stream",
          "name": "stdout",
          "text": [
            "+----------+-----------+------------+\n",
            "|seating_no|arabic_name|total_degree|\n",
            "+----------+-----------+------------+\n",
            "+----------+-----------+------------+\n",
            "\n"
          ]
        }
      ]
    },
    {
      "cell_type": "markdown",
      "source": [],
      "metadata": {
        "id": "K8gLRGgLT593"
      }
    },
    {
      "cell_type": "code",
      "source": [
        "df1.printSchema()"
      ],
      "metadata": {
        "colab": {
          "base_uri": "https://localhost:8080/"
        },
        "id": "foI39zZ59zBK",
        "outputId": "8ee18788-4685-4f0e-9af2-5bc231f11780"
      },
      "execution_count": null,
      "outputs": [
        {
          "output_type": "stream",
          "name": "stdout",
          "text": [
            "root\n",
            " |-- seating_no: long (nullable = true)\n",
            " |-- arabic_name: string (nullable = true)\n",
            " |-- total_degree: double (nullable = true)\n",
            "\n"
          ]
        }
      ]
    },
    {
      "cell_type": "code",
      "source": [
        "df_mohafza= df1.withColumn(\"mohafza_code\",substring(col(\"seating_no\"),0,2))"
      ],
      "metadata": {
        "id": "JSxzuUYH965a"
      },
      "execution_count": null,
      "outputs": []
    },
    {
      "cell_type": "code",
      "source": [
        "df_mohafza.groupBy(\"mohafza_code\").agg(count(\"*\").alias(\"students\")).show()"
      ],
      "metadata": {
        "colab": {
          "base_uri": "https://localhost:8080/"
        },
        "id": "sNKne5gi_KUU",
        "outputId": "eefd2b6a-6959-45fc-b7da-701212eda325"
      },
      "execution_count": null,
      "outputs": [
        {
          "output_type": "stream",
          "name": "stdout",
          "text": [
            "+------------+--------+\n",
            "|mohafza_code|students|\n",
            "+------------+--------+\n",
            "|          11|   79702|\n",
            "|          10|   92629|\n",
            "|          12|   88448|\n",
            "|          13|   89465|\n",
            "|          14|   91900|\n",
            "|          15|   86614|\n",
            "|          16|   90694|\n",
            "|          18|   89806|\n",
            "|          17|   85690|\n",
            "|          19|   16032|\n",
            "+------------+--------+\n",
            "\n"
          ]
        }
      ]
    },
    {
      "cell_type": "code",
      "source": [
        "df_total_mya=df_mohafza.withColumn(\"total_degree_100\",col(\"total_degree\")*100/320)"
      ],
      "metadata": {
        "id": "iznKH8eiAMuI"
      },
      "execution_count": null,
      "outputs": []
    },
    {
      "cell_type": "code",
      "source": [
        "df_total_mya.show(3)"
      ],
      "metadata": {
        "colab": {
          "base_uri": "https://localhost:8080/"
        },
        "id": "e5btjOxVDoEX",
        "outputId": "4352ec28-c9b0-457a-b9ee-848bac001096"
      },
      "execution_count": null,
      "outputs": [
        {
          "output_type": "stream",
          "name": "stdout",
          "text": [
            "+----------+--------------------+------------+------------+----------------+\n",
            "|seating_no|         arabic_name|total_degree|mohafza_code|total_degree_100|\n",
            "+----------+--------------------+------------+------------+----------------+\n",
            "|   1001660|محمد ابو الحسن حس...|       163.5|          10|        51.09375|\n",
            "|   1001661|محمد احمد محمد اب...|       187.5|          10|        58.59375|\n",
            "|   1001662|محمد على محمود عب...|       168.0|          10|            52.5|\n",
            "+----------+--------------------+------------+------------+----------------+\n",
            "only showing top 3 rows\n",
            "\n"
          ]
        }
      ]
    },
    {
      "cell_type": "code",
      "source": [
        "df_sucess=df_total_mya.filter(col(\"total_degree_100\")>=50)\n",
        "df_fail=df_total_mya.filter(col(\"total_degree_100\")<50)\n"
      ],
      "metadata": {
        "id": "zZCZ-o4TDsFh"
      },
      "execution_count": null,
      "outputs": []
    },
    {
      "cell_type": "code",
      "source": [
        "df.agg(count(\"*\")).show()\n",
        "df_sucess.agg(count(\"*\")).show()\n",
        "df_fail.agg(count(\"*\")).show()"
      ],
      "metadata": {
        "colab": {
          "base_uri": "https://localhost:8080/"
        },
        "id": "9KSWqhUuEs4d",
        "outputId": "0a9e740e-5230-4768-f8a6-b551a4e32b47"
      },
      "execution_count": null,
      "outputs": [
        {
          "output_type": "stream",
          "name": "stdout",
          "text": [
            "+--------+\n",
            "|count(1)|\n",
            "+--------+\n",
            "|  810980|\n",
            "+--------+\n",
            "\n",
            "+--------+\n",
            "|count(1)|\n",
            "+--------+\n",
            "|  689444|\n",
            "+--------+\n",
            "\n",
            "+--------+\n",
            "|count(1)|\n",
            "+--------+\n",
            "|  121536|\n",
            "+--------+\n",
            "\n"
          ]
        }
      ]
    },
    {
      "cell_type": "code",
      "source": [
        "df_sucess.groupBy(\"mohafza_code\").agg(count(\"*\").alias(\"sucess_students\")).orderBy(\"sucess_students\",ascending=False).show()"
      ],
      "metadata": {
        "colab": {
          "base_uri": "https://localhost:8080/"
        },
        "id": "uT1KYYtcFEEr",
        "outputId": "fc4f9b8b-e5ae-4585-8ac8-3ceee93eb221"
      },
      "execution_count": null,
      "outputs": [
        {
          "output_type": "stream",
          "name": "stdout",
          "text": [
            "+------------+---------------+\n",
            "|mohafza_code|sucess_students|\n",
            "+------------+---------------+\n",
            "|          16|          87112|\n",
            "|          14|          83117|\n",
            "|          18|          77911|\n",
            "|          17|          75505|\n",
            "|          15|          74536|\n",
            "|          13|          74141|\n",
            "|          12|          72116|\n",
            "|          10|          68811|\n",
            "|          11|          61806|\n",
            "|          19|          14389|\n",
            "+------------+---------------+\n",
            "\n"
          ]
        }
      ]
    },
    {
      "cell_type": "code",
      "source": [
        "df_sucess.filter(col(\"total_degree_100\")>=90).groupBy(\"mohafza_code\").agg(count(\"*\").alias(\"sucess_students\")).orderBy(\"sucess_students\",ascending=False).show()"
      ],
      "metadata": {
        "colab": {
          "base_uri": "https://localhost:8080/"
        },
        "id": "RtXwpemXHmgz",
        "outputId": "d0e52ca9-5369-41f5-cced-d4a9de7e1bdb"
      },
      "execution_count": null,
      "outputs": [
        {
          "output_type": "stream",
          "name": "stdout",
          "text": [
            "+------------+---------------+\n",
            "|mohafza_code|sucess_students|\n",
            "+------------+---------------+\n",
            "|          18|          11724|\n",
            "|          16|           9573|\n",
            "|          17|           6480|\n",
            "|          14|           6273|\n",
            "|          15|           4752|\n",
            "|          12|           4446|\n",
            "|          11|           4287|\n",
            "|          19|           4012|\n",
            "|          13|           3844|\n",
            "|          10|           3626|\n",
            "+------------+---------------+\n",
            "\n"
          ]
        }
      ]
    },
    {
      "cell_type": "code",
      "source": [
        "df_sucess_cat=df_sucess.withColumn(\"category\", when((col(\"total_degree_100\") >= 50) & (col(\"total_degree_100\") < 60), \"50-60\")\n",
        "    .when((col(\"total_degree_100\") >= 60) & (col(\"total_degree_100\") < 70), \"60-70\")\n",
        "    .when((col(\"total_degree_100\") >= 70) & (col(\"total_degree_100\") < 80), \"70-80\")\n",
        "    .when((col(\"total_degree_100\") >= 80) & (col(\"total_degree_100\") < 90), \"80-90\")\n",
        "    .when((col(\"total_degree_100\") >= 90) & (col(\"total_degree_100\") <= 100), \"90-100\")\n",
        "    )"
      ],
      "metadata": {
        "id": "01fR41CuJof5"
      },
      "execution_count": null,
      "outputs": []
    },
    {
      "cell_type": "code",
      "source": [
        "df_sucess_cat.groupBy(\"category\").agg(count(\"*\").alias(\"sucess_students\")).orderBy(\"sucess_students\",ascending=False).show()"
      ],
      "metadata": {
        "colab": {
          "base_uri": "https://localhost:8080/"
        },
        "id": "XnT5MsT1Nkgy",
        "outputId": "b913e273-91bf-4815-9d9d-f44717bf7465"
      },
      "execution_count": null,
      "outputs": [
        {
          "output_type": "stream",
          "name": "stdout",
          "text": [
            "+--------+---------------+\n",
            "|category|sucess_students|\n",
            "+--------+---------------+\n",
            "|   60-70|         188224|\n",
            "|   70-80|         166925|\n",
            "|   80-90|         140065|\n",
            "|   50-60|         135213|\n",
            "|  90-100|          55422|\n",
            "|    NULL|           3595|\n",
            "+--------+---------------+\n",
            "\n"
          ]
        }
      ]
    },
    {
      "cell_type": "code",
      "source": [
        "#partining\n",
        "df_partitioned = df_mohafza.repartition(\"mohafza_code\")\n"
      ],
      "metadata": {
        "id": "luvtuy2jOce9"
      },
      "execution_count": null,
      "outputs": []
    },
    {
      "cell_type": "code",
      "source": [
        "df_mohafza.groupBy(\"mohafza_code\").agg(count(\"*\").alias(\"students\")).show(2)\n"
      ],
      "metadata": {
        "colab": {
          "base_uri": "https://localhost:8080/"
        },
        "id": "BqC0J3fm_19d",
        "outputId": "d4a1280c-52d7-4aea-c16a-0b0e45fe070f"
      },
      "execution_count": null,
      "outputs": [
        {
          "output_type": "stream",
          "name": "stdout",
          "text": [
            "+------------+--------+\n",
            "|mohafza_code|students|\n",
            "+------------+--------+\n",
            "|          11|   79702|\n",
            "|          10|   92629|\n",
            "+------------+--------+\n",
            "only showing top 2 rows\n",
            "\n"
          ]
        }
      ]
    },
    {
      "cell_type": "code",
      "source": [
        "df_partitioned.groupBy(\"mohafza_code\").agg(count(\"*\").alias(\"students\")).show(2)"
      ],
      "metadata": {
        "colab": {
          "base_uri": "https://localhost:8080/"
        },
        "id": "uBugf53cB3Vb",
        "outputId": "311979a9-3fd0-47f0-f311-1ef6b30a968c"
      },
      "execution_count": null,
      "outputs": [
        {
          "output_type": "stream",
          "name": "stdout",
          "text": [
            "+------------+--------+\n",
            "|mohafza_code|students|\n",
            "+------------+--------+\n",
            "|          11|   79702|\n",
            "|          10|   92629|\n",
            "+------------+--------+\n",
            "only showing top 2 rows\n",
            "\n"
          ]
        }
      ]
    },
    {
      "cell_type": "code",
      "source": [],
      "metadata": {
        "id": "c5hDuMnGB8Sf"
      },
      "execution_count": null,
      "outputs": []
    }
  ]
}