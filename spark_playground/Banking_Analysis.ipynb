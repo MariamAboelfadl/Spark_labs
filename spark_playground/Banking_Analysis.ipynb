{
  "nbformat": 4,
  "nbformat_minor": 0,
  "metadata": {
    "colab": {
      "provenance": []
    },
    "kernelspec": {
      "name": "python3",
      "display_name": "Python 3"
    },
    "language_info": {
      "name": "python"
    }
  },
  "cells": [
    {
      "cell_type": "code",
      "execution_count": 63,
      "metadata": {
        "id": "y84gdNPkOrr7"
      },
      "outputs": [],
      "source": [
        "import pyspark"
      ]
    },
    {
      "cell_type": "code",
      "source": [
        "from pyspark.sql import SparkSession"
      ],
      "metadata": {
        "id": "BHR8bo18Por2"
      },
      "execution_count": 64,
      "outputs": []
    },
    {
      "cell_type": "code",
      "source": [
        "spark = SparkSession.builder.appName('BankingApp').getOrCreate()"
      ],
      "metadata": {
        "id": "p4GbcHFRP3Lf"
      },
      "execution_count": 65,
      "outputs": []
    },
    {
      "cell_type": "code",
      "source": [
        "df_bank = spark.read.format(\"csv\") \\\n",
        "    .option(\"sep\", \";\") \\\n",
        "    .option(\"header\", \"true\") \\\n",
        "    .option(\"inferSchema\", \"true\") \\\n",
        "    .load(\"/content/sample_data/bank-full.csv\")\n"
      ],
      "metadata": {
        "id": "uDGyf0QHRFf9"
      },
      "execution_count": 66,
      "outputs": []
    },
    {
      "cell_type": "code",
      "source": [
        "df_bank.show()"
      ],
      "metadata": {
        "colab": {
          "base_uri": "https://localhost:8080/"
        },
        "id": "glELmr2mRVFs",
        "outputId": "687ac3eb-d7a8-4687-fb5a-1354ff5799dd"
      },
      "execution_count": 67,
      "outputs": [
        {
          "output_type": "stream",
          "name": "stdout",
          "text": [
            "+---+------------+--------+---------+-------+-------+-------+----+-------+---+-----+--------+--------+-----+--------+--------+---+\n",
            "|age|         job| marital|education|default|balance|housing|loan|contact|day|month|duration|campaign|pdays|previous|poutcome|  y|\n",
            "+---+------------+--------+---------+-------+-------+-------+----+-------+---+-----+--------+--------+-----+--------+--------+---+\n",
            "| 58|  management| married| tertiary|     no|   2143|    yes|  no|unknown|  5|  may|     261|       1|   -1|       0| unknown| no|\n",
            "| 44|  technician|  single|secondary|     no|     29|    yes|  no|unknown|  5|  may|     151|       1|   -1|       0| unknown| no|\n",
            "| 33|entrepreneur| married|secondary|     no|      2|    yes| yes|unknown|  5|  may|      76|       1|   -1|       0| unknown| no|\n",
            "| 47| blue-collar| married|  unknown|     no|   1506|    yes|  no|unknown|  5|  may|      92|       1|   -1|       0| unknown| no|\n",
            "| 33|     unknown|  single|  unknown|     no|      1|     no|  no|unknown|  5|  may|     198|       1|   -1|       0| unknown| no|\n",
            "| 35|  management| married| tertiary|     no|    231|    yes|  no|unknown|  5|  may|     139|       1|   -1|       0| unknown| no|\n",
            "| 28|  management|  single| tertiary|     no|    447|    yes| yes|unknown|  5|  may|     217|       1|   -1|       0| unknown| no|\n",
            "| 42|entrepreneur|divorced| tertiary|    yes|      2|    yes|  no|unknown|  5|  may|     380|       1|   -1|       0| unknown| no|\n",
            "| 58|     retired| married|  primary|     no|    121|    yes|  no|unknown|  5|  may|      50|       1|   -1|       0| unknown| no|\n",
            "| 43|  technician|  single|secondary|     no|    593|    yes|  no|unknown|  5|  may|      55|       1|   -1|       0| unknown| no|\n",
            "| 41|      admin.|divorced|secondary|     no|    270|    yes|  no|unknown|  5|  may|     222|       1|   -1|       0| unknown| no|\n",
            "| 29|      admin.|  single|secondary|     no|    390|    yes|  no|unknown|  5|  may|     137|       1|   -1|       0| unknown| no|\n",
            "| 53|  technician| married|secondary|     no|      6|    yes|  no|unknown|  5|  may|     517|       1|   -1|       0| unknown| no|\n",
            "| 58|  technician| married|  unknown|     no|     71|    yes|  no|unknown|  5|  may|      71|       1|   -1|       0| unknown| no|\n",
            "| 57|    services| married|secondary|     no|    162|    yes|  no|unknown|  5|  may|     174|       1|   -1|       0| unknown| no|\n",
            "| 51|     retired| married|  primary|     no|    229|    yes|  no|unknown|  5|  may|     353|       1|   -1|       0| unknown| no|\n",
            "| 45|      admin.|  single|  unknown|     no|     13|    yes|  no|unknown|  5|  may|      98|       1|   -1|       0| unknown| no|\n",
            "| 57| blue-collar| married|  primary|     no|     52|    yes|  no|unknown|  5|  may|      38|       1|   -1|       0| unknown| no|\n",
            "| 60|     retired| married|  primary|     no|     60|    yes|  no|unknown|  5|  may|     219|       1|   -1|       0| unknown| no|\n",
            "| 33|    services| married|secondary|     no|      0|    yes|  no|unknown|  5|  may|      54|       1|   -1|       0| unknown| no|\n",
            "+---+------------+--------+---------+-------+-------+-------+----+-------+---+-----+--------+--------+-----+--------+--------+---+\n",
            "only showing top 20 rows\n",
            "\n"
          ]
        }
      ]
    },
    {
      "cell_type": "code",
      "source": [
        "# Which customer segments are most likely to subscribe to a term deposit?\n",
        "df_bank = df_bank.withColumn(\"subscription_rate\", when(df_bank.y == \"yes\", 1).otherwise(0))\n",
        "df_bank.groupBy(\"job\").agg({\"subscription_rate\": \"avg\"}).show()\n",
        "df_bank.groupBy(\"marital\").agg({\"subscription_rate\": \"avg\"}).show()\n",
        "df_bank.groupBy(\"education\").agg({\"subscription_rate\": \"avg\"}).show()\n",
        "from pyspark.sql.functions import when\n",
        "\n",
        "df_bank = df_bank.withColumn(\n",
        "    \"age_category\",\n",
        "    when(df_bank.age < 30, \"Youth\")\n",
        "    .when((df_bank.age >= 30) & (df_bank.age <= 44), \"Adult\")\n",
        "    .otherwise(\"Senior\")\n",
        ")\n",
        "df_bank.groupBy(\"age_category\").agg({\"subscription_rate\": \"avg\"}).show()"
      ],
      "metadata": {
        "colab": {
          "base_uri": "https://localhost:8080/"
        },
        "id": "UsE6A0dnRuqi",
        "outputId": "2ac7fd9f-2a25-4b51-bab7-e7dce7599218"
      },
      "execution_count": 78,
      "outputs": [
        {
          "output_type": "stream",
          "name": "stdout",
          "text": [
            "+-------------+----------------------+\n",
            "|          job|avg(subscription_rate)|\n",
            "+-------------+----------------------+\n",
            "|   management|   0.13755550856417847|\n",
            "|      retired|   0.22791519434628976|\n",
            "|      unknown|   0.11805555555555555|\n",
            "|self-employed|   0.11842938568714376|\n",
            "|      student|    0.2867803837953092|\n",
            "|  blue-collar|   0.07274969173859433|\n",
            "| entrepreneur|   0.08271687962340282|\n",
            "|       admin.|   0.12202668729452718|\n",
            "|   technician|   0.11056996182703699|\n",
            "|     services|   0.08883004333172845|\n",
            "|    housemaid|   0.08790322580645162|\n",
            "|   unemployed|   0.15502686108979277|\n",
            "+-------------+----------------------+\n",
            "\n",
            "+--------+----------------------+\n",
            "| marital|avg(subscription_rate)|\n",
            "+--------+----------------------+\n",
            "|divorced|   0.11945458037257538|\n",
            "| married|   0.10123465863158668|\n",
            "|  single|    0.1494917904612979|\n",
            "+--------+----------------------+\n",
            "\n",
            "+---------+----------------------+\n",
            "|education|avg(subscription_rate)|\n",
            "+---------+----------------------+\n",
            "|  unknown|   0.13570274636510501|\n",
            "| tertiary|   0.15006390496955116|\n",
            "|secondary|   0.10559434531505904|\n",
            "|  primary|   0.08626477886439936|\n",
            "+---------+----------------------+\n",
            "\n",
            "+------------+----------------------+\n",
            "|age_category|avg(subscription_rate)|\n",
            "+------------+----------------------+\n",
            "|      Senior|    0.1216164453524004|\n",
            "|       Youth|    0.1759908970225678|\n",
            "|       Adult|   0.10117821537447474|\n",
            "+------------+----------------------+\n",
            "\n"
          ]
        }
      ]
    },
    {
      "cell_type": "code",
      "source": [
        "# How do previous campaign contacts affect the likelihood of success?\n",
        "df_bank.filter(df_bank.previous==0).groupBy(\"previous\").agg({\"subscription_rate\": \"avg\"}).show()\n",
        "df_bank.filter(df_bank.previous!=0).groupBy(\"previous\").agg({\"subscription_rate\": \"avg\"}).show()\n",
        "df_bank.filter(df_bank.pdays==-1).groupBy(\"pdays\",\"y\").count().show()\n",
        "df_bank.filter(df_bank.pdays!=-1).groupBy(\"pdays\").agg({\"subscription_rate\": \"avg\"}).show()\n"
      ],
      "metadata": {
        "colab": {
          "base_uri": "https://localhost:8080/"
        },
        "id": "2_0zh3I0fjIp",
        "outputId": "9696ac19-5d1a-445b-de88-7f3e3331e04a"
      },
      "execution_count": 79,
      "outputs": [
        {
          "output_type": "stream",
          "name": "stdout",
          "text": [
            "+--------+----------------------+\n",
            "|previous|avg(subscription_rate)|\n",
            "+--------+----------------------+\n",
            "|       0|   0.09157330735509012|\n",
            "+--------+----------------------+\n",
            "\n",
            "+--------+----------------------+\n",
            "|previous|avg(subscription_rate)|\n",
            "+--------+----------------------+\n",
            "|      28|                   0.0|\n",
            "|      26|                   0.5|\n",
            "|      27|                   0.0|\n",
            "|      12|   0.22727272727272727|\n",
            "|      22|   0.16666666666666666|\n",
            "|       1|   0.21031746031746032|\n",
            "|      13|   0.23684210526315788|\n",
            "|      16|                   0.0|\n",
            "|       6|    0.2996389891696751|\n",
            "|       3|    0.2574430823117338|\n",
            "|      20|                 0.125|\n",
            "|      40|                   0.0|\n",
            "|       5|    0.2636165577342048|\n",
            "|      19|   0.18181818181818182|\n",
            "|      15|                  0.05|\n",
            "|      37|                   0.0|\n",
            "|       9|    0.2608695652173913|\n",
            "|      17|                   0.2|\n",
            "|       4|   0.23949579831932774|\n",
            "|       8|    0.3023255813953488|\n",
            "+--------+----------------------+\n",
            "only showing top 20 rows\n",
            "\n",
            "+-----+---+-----+\n",
            "|pdays|  y|count|\n",
            "+-----+---+-----+\n",
            "|   -1| no|33570|\n",
            "|   -1|yes| 3384|\n",
            "+-----+---+-----+\n",
            "\n",
            "+-----+----------------------+\n",
            "|pdays|avg(subscription_rate)|\n",
            "+-----+----------------------+\n",
            "|  148|                  0.25|\n",
            "|  463|                  0.25|\n",
            "|  243|   0.14285714285714285|\n",
            "|  392|                  0.75|\n",
            "|   31|                   0.2|\n",
            "|  137|                 0.125|\n",
            "|  251|   0.15789473684210525|\n",
            "|   85|               0.34375|\n",
            "|   65|                   1.0|\n",
            "|  255|                   0.0|\n",
            "|  133|   0.22727272727272727|\n",
            "|  296|   0.36363636363636365|\n",
            "|  322|  0.034482758620689655|\n",
            "|   78|   0.21428571428571427|\n",
            "|  321|    0.1111111111111111|\n",
            "|  362|  0.034482758620689655|\n",
            "|  375|                   1.0|\n",
            "|  155|   0.18181818181818182|\n",
            "|  108|                   0.0|\n",
            "|  193|   0.19047619047619047|\n",
            "+-----+----------------------+\n",
            "only showing top 20 rows\n",
            "\n"
          ]
        }
      ]
    },
    {
      "cell_type": "code",
      "source": [
        "#What is the relationship between call duration and campaign success?\n",
        "from pyspark.sql.functions import avg\n",
        "df_bank.groupBy(\"y\").agg(avg(\"duration\")).show()"
      ],
      "metadata": {
        "colab": {
          "base_uri": "https://localhost:8080/"
        },
        "id": "EQRCn9gMozmj",
        "outputId": "d714c161-6f79-43f7-bb8f-63de8130c0a1"
      },
      "execution_count": 70,
      "outputs": [
        {
          "output_type": "stream",
          "name": "stdout",
          "text": [
            "+---+------------------+\n",
            "|  y|     avg(duration)|\n",
            "+---+------------------+\n",
            "| no|221.18280647262162|\n",
            "|yes| 537.2945736434109|\n",
            "+---+------------------+\n",
            "\n"
          ]
        }
      ]
    },
    {
      "cell_type": "code",
      "source": [
        "#Does the time of year (month) or day affect subscription rates?\n",
        "df_bank.groupBy(\"month\").agg({\"subscription_rate\": \"avg\"}).show()\n",
        "df_bank = df_bank.withColumn(\"day_of_week\", df_bank.day.substr(1, 3))\n",
        "df_bank.groupBy(\"day_of_week\").agg({\"subscription_rate\": \"avg\"}).show()"
      ],
      "metadata": {
        "colab": {
          "base_uri": "https://localhost:8080/"
        },
        "id": "YSVjD0Vd5G_P",
        "outputId": "9248e40e-b79d-47ff-cbe4-caf0c150438f"
      },
      "execution_count": 71,
      "outputs": [
        {
          "output_type": "stream",
          "name": "stdout",
          "text": [
            "+-----+----------------------+\n",
            "|month|avg(subscription_rate)|\n",
            "+-----+----------------------+\n",
            "|  jun|   0.10222804718217562|\n",
            "|  aug|   0.11013286377461182|\n",
            "|  may|   0.06719453726572715|\n",
            "|  feb|    0.1664779161947905|\n",
            "|  sep|   0.46459412780656306|\n",
            "|  mar|     0.519916142557652|\n",
            "|  oct|   0.43766937669376693|\n",
            "|  jul|   0.09093546047860769|\n",
            "|  nov|   0.10151133501259446|\n",
            "|  apr|   0.19679399727148705|\n",
            "|  dec|    0.4672897196261682|\n",
            "|  jan|   0.10121168923734854|\n",
            "+-----+----------------------+\n",
            "\n",
            "+-----------+----------------------+\n",
            "|day_of_week|avg(subscription_rate)|\n",
            "+-----------+----------------------+\n",
            "|          7|    0.0864061640066043|\n",
            "|         15|   0.13975337639459776|\n",
            "|         11|   0.12237998647734956|\n",
            "|         29|   0.07392550143266476|\n",
            "|          3|     0.164967562557924|\n",
            "|         30|   0.17305236270753513|\n",
            "|          8|   0.10912052117263844|\n",
            "|         28|   0.07814207650273224|\n",
            "|         22|   0.17016574585635358|\n",
            "|         16|   0.13568904593639575|\n",
            "|          5|     0.112565445026178|\n",
            "|         31|   0.07153965785381027|\n",
            "|         18|   0.09878682842287695|\n",
            "|         27|   0.13380909901873328|\n",
            "|         17|   0.09076843733883445|\n",
            "|         26|   0.11207729468599034|\n",
            "|          6|   0.09368530020703934|\n",
            "|         19|   0.06943653955606147|\n",
            "|         23|     0.134185303514377|\n",
            "|         25|   0.15833333333333333|\n",
            "+-----------+----------------------+\n",
            "only showing top 20 rows\n",
            "\n"
          ]
        }
      ]
    },
    {
      "cell_type": "code",
      "source": [
        "#What impact does the contact method (telephone, cellular vs. unknown) have on success?\n",
        "df_bank.groupBy(\"contact\").agg({\"subscription_rate\": \"avg\"}).show()"
      ],
      "metadata": {
        "colab": {
          "base_uri": "https://localhost:8080/"
        },
        "id": "XQxOPp6T5o-G",
        "outputId": "691a32a8-e1e6-4de1-b8ec-51870de9a9f9"
      },
      "execution_count": 72,
      "outputs": [
        {
          "output_type": "stream",
          "name": "stdout",
          "text": [
            "+---------+----------------------+\n",
            "|  contact|avg(subscription_rate)|\n",
            "+---------+----------------------+\n",
            "|  unknown|  0.040706605222734255|\n",
            "| cellular|   0.14918900460986853|\n",
            "|telephone|   0.13420509291121818|\n",
            "+---------+----------------------+\n",
            "\n"
          ]
        }
      ]
    },
    {
      "cell_type": "code",
      "source": [
        "# Are customers with housing or personal loans more or less likely to subscribe?\n",
        "df_bank.groupBy(\"housing\").agg({\"subscription_rate\": \"avg\"}).show()\n",
        "df_bank.groupBy(\"loan\").agg({\"subscription_rate\": \"avg\"}).show()"
      ],
      "metadata": {
        "colab": {
          "base_uri": "https://localhost:8080/"
        },
        "id": "V7rdA68Z-zLd",
        "outputId": "d431fc8f-738a-47a4-c009-84b2600e033a"
      },
      "execution_count": 73,
      "outputs": [
        {
          "output_type": "stream",
          "name": "stdout",
          "text": [
            "+-------+----------------------+\n",
            "|housing|avg(subscription_rate)|\n",
            "+-------+----------------------+\n",
            "|     no|    0.1670235546038544|\n",
            "|    yes|   0.07699960206923995|\n",
            "+-------+----------------------+\n",
            "\n",
            "+----+----------------------+\n",
            "|loan|avg(subscription_rate)|\n",
            "+----+----------------------+\n",
            "|  no|   0.12655727342165565|\n",
            "| yes|   0.06681391496410823|\n",
            "+----+----------------------+\n",
            "\n"
          ]
        }
      ]
    },
    {
      "cell_type": "code",
      "source": [
        "# What campaign strategies resulted in the highest conversion rates historically?\n",
        "df_bank.groupBy(\"contact\", \"poutcome\").agg({\"subscription_rate\": \"avg\"}).show()\n",
        "df_bank.groupBy(\"campaign\").agg({\"subscription_rate\": \"avg\"}).show()\n"
      ],
      "metadata": {
        "colab": {
          "base_uri": "https://localhost:8080/"
        },
        "id": "PgAkmyIs_sXe",
        "outputId": "167eccaf-f1f0-41be-ce08-5006c6d67019"
      },
      "execution_count": 74,
      "outputs": [
        {
          "output_type": "stream",
          "name": "stdout",
          "text": [
            "+---------+--------+----------------------+\n",
            "|  contact|poutcome|avg(subscription_rate)|\n",
            "+---------+--------+----------------------+\n",
            "|  unknown| failure|   0.12903225806451613|\n",
            "|  unknown| unknown|                  0.04|\n",
            "|telephone| unknown|   0.11076923076923077|\n",
            "|telephone|   other|                 0.125|\n",
            "| cellular| unknown|   0.12036440599981596|\n",
            "| cellular|   other|    0.1710445937690898|\n",
            "|  unknown| success|                  0.25|\n",
            "| cellular| failure|   0.12651799514241555|\n",
            "|telephone| success|    0.6578947368421053|\n",
            "|  unknown|   other|   0.18518518518518517|\n",
            "|telephone| failure|   0.12023460410557185|\n",
            "| cellular| success|    0.6498194945848376|\n",
            "+---------+--------+----------------------+\n",
            "\n",
            "+--------+----------------------+\n",
            "|campaign|avg(subscription_rate)|\n",
            "+--------+----------------------+\n",
            "|      31|                   0.0|\n",
            "|      34|                   0.0|\n",
            "|      28|                   0.0|\n",
            "|      26|                   0.0|\n",
            "|      27|                   0.0|\n",
            "|      44|                   0.0|\n",
            "|      12|  0.025806451612903226|\n",
            "|      22|                   0.0|\n",
            "|       1|   0.14597583219334245|\n",
            "|      13|  0.045112781954887216|\n",
            "|       6|   0.07126258714175059|\n",
            "|      16|   0.02531645569620253|\n",
            "|       3|   0.11193624343416048|\n",
            "|      20|  0.023255813953488372|\n",
            "|       5|   0.07879818594104308|\n",
            "|      19|                   0.0|\n",
            "|      41|                   0.0|\n",
            "|      15|  0.047619047619047616|\n",
            "|      43|                   0.0|\n",
            "|      37|                   0.0|\n",
            "+--------+----------------------+\n",
            "only showing top 20 rows\n",
            "\n"
          ]
        }
      ]
    },
    {
      "cell_type": "code",
      "source": [
        "#We’re calculating average subscription rate (y == 'yes') many times across different groups. How can we avoid repeating this calculation and optimize the whole process?\n",
        "df_bank = df_bank.withColumn(\"subscription_rate\", when(df_bank.y == \"yes\", 1).otherwise(0)).cache()"
      ],
      "metadata": {
        "id": "cYqNveuTAVh5"
      },
      "execution_count": 76,
      "outputs": []
    }
  ]
}