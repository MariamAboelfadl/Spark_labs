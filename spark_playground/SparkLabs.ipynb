{
 "cells": [
  {
   "cell_type": "markdown",
   "id": "4dca4ab3-2679-4538-9953-894408f5846d",
   "metadata": {},
   "source": [
    "### Data Fields Description\r\n",
    "\r\n",
    "- **id**: A unique identifier for each trip  \r\n",
    "- **vendor_id**: A code indicating the provider associated with the trip record  \r\n",
    "- **pickup_datetime**: Date and time when the meter was engaged  \r\n",
    "- **dropoff_datetime**: Date and time when the meter was disengaged  \r\n",
    "- **passenger_count**: The number of passengers in the vehicle (driver-entered value)  \r\n",
    "- **pickup_longitude**: The longitude where the meter was engaged  \r\n",
    "- **pickup_latitude**: The latitude where the meter was engaged  \r\n",
    "- **dropoff_longitude**: The longitude where the meter was disengaged  \r\n",
    "- **dropoff_latitude**: The latitude where the meter was disengaged  \r\n",
    "- **store_and_fwd_flag**: Indicates if the trip record was held in vehicle memory before being sent to the vendor (Y = stored and forwarded, N = not)  \r\n",
    "- **trip_duration**: Duration of the trip in seconds  \r\n",
    "- **distance**: Distance of the trip (if included in your dataset)\r\n",
    " in seconds"
   ]
  },
  {
   "cell_type": "code",
   "execution_count": 1,
   "id": "e6907efc-5c4e-4f4a-b95c-e4fad8af5030",
   "metadata": {},
   "outputs": [],
   "source": [
    "import pyspark"
   ]
  },
  {
   "cell_type": "code",
   "execution_count": 7,
   "id": "db415a9e-9492-4d38-a135-86febfc547f2",
   "metadata": {},
   "outputs": [],
   "source": [
    "from pyspark.sql import SparkSession\n",
    "from pyspark.sql import functions as f\n",
    "from pyspark.sql import types as t"
   ]
  },
  {
   "cell_type": "code",
   "execution_count": 8,
   "id": "df1a0028-57e0-4643-8a8b-bf25867db026",
   "metadata": {},
   "outputs": [],
   "source": [
    "spark = SparkSession\\\n",
    ".builder\\\n",
    ".appName('spark_labs')\\\n",
    ".getOrCreate()"
   ]
  },
  {
   "cell_type": "code",
   "execution_count": 15,
   "id": "c0e0751e-9a3c-49fd-bc12-5853302e930b",
   "metadata": {},
   "outputs": [],
   "source": [
    "df=spark.read.format('csv').option(\"header\",True).load('train.csv')"
   ]
  },
  {
   "cell_type": "code",
   "execution_count": 19,
   "id": "17e0e68f-8d6e-4e7f-a462-787fb562c26b",
   "metadata": {},
   "outputs": [
    {
     "name": "stdout",
     "output_type": "stream",
     "text": [
      "+---------+---------+-------------------+-------------------+---------------+----------------+---------------+-----------------+----------------+------------------+-------------+-------------+\n",
      "|       id|vendor_id|    pickup_datetime|   dropoff_datetime|passenger_count|pickup_longitude|pickup_latitude|dropoff_longitude|dropoff_latitude|store_and_fwd_flag|trip_duration|     distance|\n",
      "+---------+---------+-------------------+-------------------+---------------+----------------+---------------+-----------------+----------------+------------------+-------------+-------------+\n",
      "|id2875421|        2|2016-03-14 17:24:55|2016-03-14 17:32:30|              1|  -73.9821548462|  40.7679367065|    -73.964630127|   40.7656021118|                 N|          455|1.49899119898|\n",
      "+---------+---------+-------------------+-------------------+---------------+----------------+---------------+-----------------+----------------+------------------+-------------+-------------+\n",
      "only showing top 1 row\n",
      "\n"
     ]
    }
   ],
   "source": [
    "df.show(1)"
   ]
  },
  {
   "cell_type": "code",
   "execution_count": 17,
   "id": "f040625e-5c35-4683-8e83-f26d3a82ad82",
   "metadata": {},
   "outputs": [
    {
     "data": {
      "text/plain": [
       "['id',\n",
       " 'vendor_id',\n",
       " 'pickup_datetime',\n",
       " 'dropoff_datetime',\n",
       " 'passenger_count',\n",
       " 'pickup_longitude',\n",
       " 'pickup_latitude',\n",
       " 'dropoff_longitude',\n",
       " 'dropoff_latitude',\n",
       " 'store_and_fwd_flag',\n",
       " 'trip_duration',\n",
       " 'distance']"
      ]
     },
     "execution_count": 17,
     "metadata": {},
     "output_type": "execute_result"
    }
   ],
   "source": [
    "df.columns"
   ]
  },
  {
   "cell_type": "code",
   "execution_count": 18,
   "id": "b7d7b4c3-c7c0-4278-82ae-3d51246062db",
   "metadata": {},
   "outputs": [
    {
     "name": "stdout",
     "output_type": "stream",
     "text": [
      "root\n",
      " |-- id: string (nullable = true)\n",
      " |-- vendor_id: string (nullable = true)\n",
      " |-- pickup_datetime: string (nullable = true)\n",
      " |-- dropoff_datetime: string (nullable = true)\n",
      " |-- passenger_count: string (nullable = true)\n",
      " |-- pickup_longitude: string (nullable = true)\n",
      " |-- pickup_latitude: string (nullable = true)\n",
      " |-- dropoff_longitude: string (nullable = true)\n",
      " |-- dropoff_latitude: string (nullable = true)\n",
      " |-- store_and_fwd_flag: string (nullable = true)\n",
      " |-- trip_duration: string (nullable = true)\n",
      " |-- distance: string (nullable = true)\n",
      "\n"
     ]
    }
   ],
   "source": [
    "df.printSchema()"
   ]
  },
  {
   "cell_type": "code",
   "execution_count": 99,
   "id": "744da4f1-e0b3-467b-a06b-d2318d7fc39a",
   "metadata": {},
   "outputs": [],
   "source": [
    "schema=t.StructType([\n",
    "t.StructField('id',t.StringType(),True),\n",
    " t.StructField('vendor_id',t.IntegerType(),True),\n",
    " t.StructField('pickup_datetime',t.TimestampType(),True),\n",
    " t.StructField('dropoff_datetime',t.TimestampType(),True),\n",
    " t.StructField('passenger_count',t.IntegerType(),True),\n",
    " t.StructField('pickup_longitude',t.StringType(),True),\n",
    " t.StructField('pickup_latitude',t.StringType(),True),\n",
    " t.StructField('dropoff_longitude',t.StringType(),True),\n",
    " t.StructField('dropoff_latitude',t.StringType(),True),\n",
    " t.StructField('store_and_fwd_flag',t.StringType(),True),\n",
    " t.StructField('trip_duration',t.DoubleType(),True),\n",
    " t.StructField('distance',t.DoubleType(),True)]\n",
    "\n",
    "\n",
    "\n",
    ")"
   ]
  },
  {
   "cell_type": "code",
   "execution_count": 100,
   "id": "138bb6a5-4912-4ba8-8bd7-7bd402fdcb0a",
   "metadata": {},
   "outputs": [],
   "source": [
    "df = spark.read \\\n",
    "    .option(\"header\", True) \\\n",
    "    .schema(schema) \\\n",
    "    .csv(\"train.csv\")\n"
   ]
  },
  {
   "cell_type": "code",
   "execution_count": 101,
   "id": "6f6e4e41-d4a9-479d-abe5-3ec277a6144c",
   "metadata": {},
   "outputs": [
    {
     "name": "stdout",
     "output_type": "stream",
     "text": [
      "root\n",
      " |-- id: string (nullable = true)\n",
      " |-- vendor_id: integer (nullable = true)\n",
      " |-- pickup_datetime: timestamp (nullable = true)\n",
      " |-- dropoff_datetime: timestamp (nullable = true)\n",
      " |-- passenger_count: integer (nullable = true)\n",
      " |-- pickup_longitude: string (nullable = true)\n",
      " |-- pickup_latitude: string (nullable = true)\n",
      " |-- dropoff_longitude: string (nullable = true)\n",
      " |-- dropoff_latitude: string (nullable = true)\n",
      " |-- store_and_fwd_flag: string (nullable = true)\n",
      " |-- trip_duration: double (nullable = true)\n",
      " |-- distance: double (nullable = true)\n",
      "\n"
     ]
    }
   ],
   "source": [
    "df.printSchema()"
   ]
  },
  {
   "cell_type": "code",
   "execution_count": 102,
   "id": "b5664254-c076-4f26-b413-d64703a05a25",
   "metadata": {},
   "outputs": [
    {
     "data": {
      "text/plain": [
       "1458644"
      ]
     },
     "execution_count": 102,
     "metadata": {},
     "output_type": "execute_result"
    }
   ],
   "source": [
    "df.count()"
   ]
  },
  {
   "cell_type": "code",
   "execution_count": 103,
   "id": "892e6fcf-e853-4e29-95e7-1b33a2813604",
   "metadata": {},
   "outputs": [
    {
     "name": "stdout",
     "output_type": "stream",
     "text": [
      "+---------------+\n",
      "|passenger_count|\n",
      "+---------------+\n",
      "|              1|\n",
      "|              6|\n",
      "|              3|\n",
      "|              5|\n",
      "|              4|\n",
      "|              2|\n",
      "|              0|\n",
      "|              9|\n",
      "|              7|\n",
      "|              8|\n",
      "+---------------+\n",
      "\n"
     ]
    }
   ],
   "source": [
    "df.select(f.col('passenger_count')).distinct().show()"
   ]
  },
  {
   "cell_type": "code",
   "execution_count": 104,
   "id": "845c0315-8154-4a77-a465-1c4a6f80e283",
   "metadata": {},
   "outputs": [
    {
     "data": {
      "text/plain": [
       "0"
      ]
     },
     "execution_count": 104,
     "metadata": {},
     "output_type": "execute_result"
    }
   ],
   "source": [
    "df.filter(f.col('id').isNull()).count()"
   ]
  },
  {
   "cell_type": "code",
   "execution_count": 105,
   "id": "4e0db4be-72d0-4a01-8778-77e0829bc508",
   "metadata": {},
   "outputs": [
    {
     "data": {
      "text/plain": [
       "0"
      ]
     },
     "execution_count": 105,
     "metadata": {},
     "output_type": "execute_result"
    }
   ],
   "source": [
    "df.where(f.col('vendor_id').isNull()).count()"
   ]
  },
  {
   "cell_type": "code",
   "execution_count": 106,
   "id": "6981e8bf-9c7c-4acd-8c88-8ae487c0f009",
   "metadata": {},
   "outputs": [
    {
     "name": "stdout",
     "output_type": "stream",
     "text": [
      "+-------+-----------------+\n",
      "|summary|    trip_duration|\n",
      "+-------+-----------------+\n",
      "|  count|          1458644|\n",
      "|   mean|959.4922729603659|\n",
      "| stddev|5237.431724497664|\n",
      "|    min|              1.0|\n",
      "|    max|        3526282.0|\n",
      "+-------+-----------------+\n",
      "\n",
      "+-------+-----------------+\n",
      "|summary|         distance|\n",
      "+-------+-----------------+\n",
      "|  count|          1458644|\n",
      "|   mean|3.441944066475521|\n",
      "| stddev|4.297886810313032|\n",
      "|    min|              0.0|\n",
      "|    max|    1241.29822576|\n",
      "+-------+-----------------+\n",
      "\n"
     ]
    }
   ],
   "source": [
    "df.describe('trip_duration').show()\n",
    "df.describe('distance').show()"
   ]
  },
  {
   "cell_type": "code",
   "execution_count": 107,
   "id": "161ee560-108e-4928-a070-fe8a9e8700e1",
   "metadata": {},
   "outputs": [
    {
     "name": "stdout",
     "output_type": "stream",
     "text": [
      "+--------+-------------+\n",
      "|distance|trips_numbers|\n",
      "+--------+-------------+\n",
      "|     0.0|         5897|\n",
      "+--------+-------------+\n",
      "\n",
      "+-------------+-------------+\n",
      "|     distance|trips_numbers|\n",
      "+-------------+-------------+\n",
      "|1241.29822576|            1|\n",
      "+-------------+-------------+\n",
      "\n"
     ]
    }
   ],
   "source": [
    "df.where(f.col('distance')==0.0).groupBy('distance').count().withColumnRenamed('count','trips_numbers').show()\n",
    "df.where(f.col('distance')==1241.29822576).groupBy('distance').count().withColumnRenamed('count','trips_numbers').show()"
   ]
  },
  {
   "cell_type": "code",
   "execution_count": 108,
   "id": "77915d7a-c743-4b83-b376-a7fb7270711f",
   "metadata": {},
   "outputs": [
    {
     "name": "stdout",
     "output_type": "stream",
     "text": [
      "+-------------+-------------------+-------------------+---------------+----------------+---------------+-----------------+----------------+\n",
      "|trip_duration|    pickup_datetime|   dropoff_datetime|passenger_count|pickup_longitude|pickup_latitude|dropoff_longitude|dropoff_latitude|\n",
      "+-------------+-------------------+-------------------+---------------+----------------+---------------+-----------------+----------------+\n",
      "|        227.0|2016-02-29 18:39:12|2016-02-29 18:42:59|              1|  -73.9818191528|  40.7689628601|   -73.9818191528|   40.7689628601|\n",
      "|       1109.0|2016-05-10 18:07:52|2016-05-10 18:26:21|              2|  -73.9590682983|  40.7756614685|   -73.9590682983|   40.7756614685|\n",
      "|        947.0|2016-05-16 23:15:13|2016-05-16 23:31:00|              6|  -73.8084869385|   40.687335968|   -73.8084869385|    40.687335968|\n",
      "|        580.0|2016-01-25 19:45:12|2016-01-25 19:54:52|              1|  -73.7867202759|  40.6470413208|   -73.7867202759|   40.6470413208|\n",
      "|         27.0|2016-01-27 22:29:31|2016-01-27 22:29:58|              1|   -74.209854126|  40.8168525696|    -74.209854126|   40.8168525696|\n",
      "|         19.0|2016-01-22 16:13:01|2016-01-22 16:13:20|              1|  -73.7763137817|  40.6454544067|   -73.7763137817|   40.6454544067|\n",
      "|        254.0|2016-01-18 15:24:43|2016-01-18 15:28:57|              5|  -73.9546661377|  40.8210029602|   -73.9546661377|   40.8210029602|\n",
      "|        248.0|2016-05-04 22:28:43|2016-05-04 22:32:51|              1|  -73.9546279907|   40.777179718|   -73.9546279907|    40.777179718|\n",
      "|          8.0|2016-05-23 14:20:49|2016-05-23 14:20:57|              1|   -73.781829834|  40.6446990967|    -73.781829834|   40.6446990967|\n",
      "|       1212.0|2016-03-02 20:10:41|2016-03-02 20:30:53|              5|  -73.8753128052|  40.7736816406|   -73.8753128052|   40.7736816406|\n",
      "|          6.0|2016-04-18 12:55:14|2016-04-18 12:55:20|              1|  -73.7882385254|  40.6414756775|   -73.7882385254|   40.6414756775|\n",
      "|        598.0|2016-04-24 18:38:34|2016-04-24 18:48:32|              1|   -73.985168457|  40.7362594604|    -73.985168457|   40.7362594604|\n",
      "|          6.0|2016-01-21 12:07:45|2016-01-21 12:07:51|              1|  -73.7827148438|  40.6439666748|   -73.7827148438|   40.6439666748|\n",
      "|          7.0|2016-04-27 15:14:54|2016-04-27 15:15:01|              2|  -74.1777801514|  40.6902809143|   -74.1777801514|   40.6902809143|\n",
      "|        604.0|2016-05-26 17:25:41|2016-05-26 17:35:45|              2|  -73.9520568848|  40.7900505066|   -73.9520568848|   40.7900505066|\n",
      "|       1325.0|2016-06-26 17:44:11|2016-06-26 18:06:16|              2|  -73.8633728027|  40.7699584961|   -73.8633728027|   40.7699584961|\n",
      "|         17.0|2016-04-11 15:30:02|2016-04-11 15:30:19|              1|  -73.7940673828|  40.6571731567|   -73.7940673828|   40.6571731567|\n",
      "|        684.0|2016-05-23 20:24:43|2016-05-23 20:36:07|              1|  -73.9910125732|  40.7565994263|   -73.9910125732|   40.7565994263|\n",
      "|          5.0|2016-03-14 06:03:38|2016-03-14 06:03:43|              1|  -73.9824066162|  40.7311439514|   -73.9824066162|   40.7311439514|\n",
      "|        948.0|2016-01-31 17:46:16|2016-01-31 18:02:04|              1|  -73.7907180786|  40.6440963745|   -73.7907180786|   40.6440963745|\n",
      "+-------------+-------------------+-------------------+---------------+----------------+---------------+-----------------+----------------+\n",
      "only showing top 20 rows\n",
      "\n"
     ]
    }
   ],
   "source": [
    "df.where(f.col('distance')==0.0).select(['trip_duration','pickup_datetime',\n",
    " 'dropoff_datetime',\n",
    " 'passenger_count',\n",
    " 'pickup_longitude',\n",
    " 'pickup_latitude',\n",
    " 'dropoff_longitude',\n",
    " 'dropoff_latitude']).show()"
   ]
  },
  {
   "cell_type": "code",
   "execution_count": 109,
   "id": "1fbbaeba-d7e5-47f3-8c02-5fbcbb094eac",
   "metadata": {},
   "outputs": [
    {
     "name": "stdout",
     "output_type": "stream",
     "text": [
      "+-------------+-------------+\n",
      "|trip_duration|trips_numbers|\n",
      "+-------------+-------------+\n",
      "|          1.0|           33|\n",
      "+-------------+-------------+\n",
      "\n",
      "+-------------+-------------+\n",
      "|trip_duration|trips_numbers|\n",
      "+-------------+-------------+\n",
      "|    3526282.0|            1|\n",
      "+-------------+-------------+\n",
      "\n"
     ]
    }
   ],
   "source": [
    "df.where(f.col('trip_duration')==1.0).groupBy('trip_duration').count().withColumnRenamed('count','trips_numbers').show()\n",
    "df.where(f.col('trip_duration')==3526282.0).groupBy('trip_duration').count().withColumnRenamed('count','trips_numbers').show()"
   ]
  },
  {
   "cell_type": "code",
   "execution_count": 110,
   "id": "2cd3087e-3a2b-4e9d-aebc-873914c49fe0",
   "metadata": {},
   "outputs": [
    {
     "name": "stdout",
     "output_type": "stream",
     "text": [
      "+----------------+-------------------+-------------------+---------------+----------------+---------------+-----------------+----------------+\n",
      "|        distance|    pickup_datetime|   dropoff_datetime|passenger_count|pickup_longitude|pickup_latitude|dropoff_longitude|dropoff_latitude|\n",
      "+----------------+-------------------+-------------------+---------------+----------------+---------------+-----------------+----------------+\n",
      "|0.00896551914398|2016-04-17 11:44:49|2016-04-17 11:44:50|              1|  -73.9403839111|  40.7864227295|   -73.9402999878|   40.7863731384|\n",
      "|6.42970707264E-4|2016-05-17 09:03:38|2016-05-17 09:03:39|              1|  -73.8198928833|  40.7408218384|   -73.8198852539|   40.7408218384|\n",
      "|   0.13306521099|2016-04-11 19:01:35|2016-04-11 19:01:36|              1|  -73.9459991455|  40.7922019958|   -73.9474105835|   40.7927398682|\n",
      "|4.24308140677E-4|2016-04-24 11:35:40|2016-04-24 11:35:41|              1|  -73.8414230347|  40.6952781677|   -73.8414230347|    40.695274353|\n",
      "|             0.0|2016-03-07 16:12:28|2016-03-07 16:12:29|              1|  -73.9806900024|  40.7444190979|   -73.9806900024|   40.7444190979|\n",
      "| 0.0198968855686|2016-02-25 04:26:50|2016-02-25 04:26:51|              1|  -73.8061523438|  40.6602058411|   -73.8062667847|   40.6600494385|\n",
      "| 0.0099827169557|2016-01-15 23:57:18|2016-01-15 23:57:19|              1|   -73.985824585|  40.7557601929|   -73.9859008789|   40.7558288574|\n",
      "|             0.0|2016-02-10 16:33:43|2016-02-10 16:33:44|              1|   -73.776512146|  40.6464538574|    -73.776512146|   40.6464538574|\n",
      "|0.00270792889116|2016-01-29 11:18:55|2016-01-29 11:18:56|              1|  -73.9719543457|  40.7501373291|   -73.9719848633|   40.7501296997|\n",
      "|             0.0|2016-01-26 10:47:22|2016-01-26 10:47:23|              1|  -74.0016098022|   40.737449646|   -74.0016098022|    40.737449646|\n",
      "|  0.231531963831|2016-05-16 14:42:18|2016-05-16 14:42:19|              1|  -73.7870864868|  40.6473884583|   -73.7897796631|   40.6469917297|\n",
      "|0.00213050429817|2016-04-15 17:32:22|2016-04-15 17:32:23|              1|  -73.7824172974|   40.644153595|   -73.7824325562|   40.6441688538|\n",
      "| 0.0070827962971|2016-04-20 23:15:08|2016-04-20 23:15:09|              1|  -73.9862823486|  40.7500343323|   -73.9862365723|    40.750087738|\n",
      "| 0.0161675912221|2016-01-20 05:53:45|2016-01-20 05:53:46|              1|  -73.8072128296|  40.6581916809|    -73.807258606|   40.6580505371|\n",
      "|             0.0|2016-04-30 00:28:45|2016-04-30 00:28:46|              1|  -73.7896575928|  40.6470031738|   -73.7896575928|   40.6470031738|\n",
      "|             0.0|2016-01-09 00:28:55|2016-01-09 00:28:56|              1|  -73.8619613647|  40.7685585022|   -73.8619613647|   40.7685585022|\n",
      "|             0.0|2016-02-03 12:35:22|2016-02-03 12:35:23|              1|  -73.9805603027|  40.7548294067|   -73.9805603027|   40.7548294067|\n",
      "|0.00980167209882|2016-03-27 12:55:52|2016-03-27 12:55:53|              2|  -73.9831542969|  40.7671585083|   -73.9832382202|   40.7670974731|\n",
      "|0.00128642839703|2016-04-26 14:33:09|2016-04-26 14:33:10|              1|  -73.9786758423|  40.7156257629|   -73.9786911011|   40.7156257629|\n",
      "|             0.0|2016-06-25 23:45:12|2016-06-25 23:45:13|              1|   -73.982925415|  40.7387809753|    -73.982925415|   40.7387809753|\n",
      "+----------------+-------------------+-------------------+---------------+----------------+---------------+-----------------+----------------+\n",
      "only showing top 20 rows\n",
      "\n"
     ]
    }
   ],
   "source": [
    "df.where(f.col('trip_duration')==1.0).select(['distance','pickup_datetime',\n",
    " 'dropoff_datetime',\n",
    " 'passenger_count',\n",
    " 'pickup_longitude',\n",
    " 'pickup_latitude',\n",
    " 'dropoff_longitude',\n",
    " 'dropoff_latitude']).show()"
   ]
  },
  {
   "cell_type": "code",
   "execution_count": 180,
   "id": "0399ca65-5261-4ebd-ba01-a958922011e7",
   "metadata": {},
   "outputs": [
    {
     "name": "stdout",
     "output_type": "stream",
     "text": [
      "+-----+-----+-----+\n",
      "|hours|    1|    2|\n",
      "+-----+-----+-----+\n",
      "|    0|24561|28687|\n",
      "|    1|18090|20481|\n",
      "|    2|13570|14402|\n",
      "|    3|10399|10496|\n",
      "|    4| 7827| 7965|\n",
      "|    5| 7581| 7421|\n",
      "|    6|16218|17030|\n",
      "|    7|26068|29532|\n",
      "|    8|31103|35950|\n",
      "|    9|31145|36518|\n",
      "|   10|29793|35644|\n",
      "|   11|31262|37214|\n",
      "|   12|33247|38626|\n",
      "|   13|33717|37756|\n",
      "|   14|35194|39098|\n",
      "|   15|34192|37619|\n",
      "|   16|30091|34222|\n",
      "|   17|35092|41391|\n",
      "|   18|41242|49358|\n",
      "|   19|41474|48834|\n",
      "+-----+-----+-----+\n",
      "only showing top 20 rows\n",
      "\n"
     ]
    }
   ],
   "source": [
    "# Calculate the number of trips by hour for each vendor?\n",
    "df=df.withColumn(\"hours\",f.hour(f.col('pickup_datetime')))\n",
    "df.groupBy(\"hours\") \\\n",
    "  .pivot(\"vendor_id\") \\\n",
    "  .agg(f.count(\"*\").alias(\"trips\")) \\\n",
    "  .orderBy(\"hours\") \\\n",
    "  .show()"
   ]
  },
  {
   "cell_type": "code",
   "execution_count": 141,
   "id": "d0093784-431a-4e6d-83f7-dc3ec697b732",
   "metadata": {},
   "outputs": [
    {
     "name": "stdout",
     "output_type": "stream",
     "text": [
      "+--------+------------+\n",
      "|day_type|Trips Number|\n",
      "+--------+------------+\n",
      "| Weekday|     1042410|\n",
      "| Weekend|      416234|\n",
      "+--------+------------+\n",
      "\n"
     ]
    }
   ],
   "source": [
    "#pickup mostly on weekends or working days?\n",
    "df = df.withColumn(\"day_of_week\", f.date_format(f.col(\"pickup_datetime\"), \"E\"))\n",
    "df = df.withColumn(\n",
    "    \"day_type\",\n",
    "    f.when(f.col(\"day_of_week\").isin(\"Sat\", \"Sun\"), \"Weekend\").otherwise(\"Weekday\")\n",
    ")\n",
    "\n",
    "df.groupBy(\"day_type\").count().withColumnRenamed(\"count\",\"Trips Number\").show()"
   ]
  },
  {
   "cell_type": "code",
   "execution_count": 147,
   "id": "0aadabcb-9b19-4b8e-b8cc-aab689fe7aa7",
   "metadata": {},
   "outputs": [
    {
     "name": "stdout",
     "output_type": "stream",
     "text": [
      "+------+------------+\n",
      "|period|Trips Number|\n",
      "+------+------------+\n",
      "|    PM|      929687|\n",
      "|    AM|      528957|\n",
      "+------+------------+\n",
      "\n"
     ]
    }
   ],
   "source": [
    "#pickup mostly on nights or mornings\n",
    "df = df.withColumn(\"period\", f.date_format(f.col(\"pickup_datetime\"), \"a\"))\n",
    "df = df.withColumn(\n",
    "    \"shifts\",\n",
    "    f.when(f.col(\"period\").isin(\"AM\"), \"nights\").otherwise(\"mornings\")\n",
    ")\n",
    "df.groupBy(\"period\").count().withColumnRenamed(\"count\",\"Trips Number\").show()"
   ]
  },
  {
   "cell_type": "code",
   "execution_count": 148,
   "id": "c48b32a9-89bd-4aee-9c63-a24bf48b99c2",
   "metadata": {},
   "outputs": [
    {
     "name": "stdout",
     "output_type": "stream",
     "text": [
      "+---------------+------------+\n",
      "|passenger_count|Trips Number|\n",
      "+---------------+------------+\n",
      "|              1|     1033540|\n",
      "|              6|       48333|\n",
      "|              3|       59896|\n",
      "|              5|       78088|\n",
      "|              4|       28404|\n",
      "|              2|      210318|\n",
      "|              0|          60|\n",
      "|              9|           1|\n",
      "|              7|           3|\n",
      "|              8|           1|\n",
      "+---------------+------------+\n",
      "\n"
     ]
    }
   ],
   "source": [
    "#numbers of trips per number of passenger?\n",
    "df.groupBy('passenger_count').count().withColumnRenamed(\"count\",\"Trips Number\").show()"
   ]
  },
  {
   "cell_type": "code",
   "execution_count": 152,
   "id": "2308da6e-2b36-48e4-8d92-b51476b0c6e1",
   "metadata": {},
   "outputs": [
    {
     "name": "stdout",
     "output_type": "stream",
     "text": [
      "+--------------+------------+\n",
      "|passenger_type|Trips Number|\n",
      "+--------------+------------+\n",
      "|         group|      425104|\n",
      "|     indevdual|     1033540|\n",
      "+--------------+------------+\n",
      "\n"
     ]
    }
   ],
   "source": [
    "# numbers of trips per group of passenger or numbers of trips per one passenger ?\n",
    "df=df.withColumn(\"passenger_type\",f.when(f.col('passenger_count').isin('1'),'indevdual').otherwise('group'))\n",
    "df.groupBy('passenger_type').count().withColumnRenamed(\"count\",\"Trips Number\").show()"
   ]
  },
  {
   "cell_type": "code",
   "execution_count": 192,
   "id": "88d10a8a-6479-4328-9773-225e80b65e35",
   "metadata": {},
   "outputs": [
    {
     "name": "stdout",
     "output_type": "stream",
     "text": [
      "+-----+------------------+------------------+\n",
      "|hours|      vendor_1_avg|      vendor_2_avg|\n",
      "+-----+------------------+------------------+\n",
      "|    0| 3.950332664159948| 4.042105190429521|\n",
      "|    1|3.9529790654384396|3.9405278700869504|\n",
      "|    2|3.8263518226143214| 3.906989928821063|\n",
      "|    3| 4.120809896019147| 4.093569472995954|\n",
      "|    4| 4.743824883419862|5.0031034014771425|\n",
      "|    5|  5.15582874527346| 5.623020177757666|\n",
      "|    6|3.9885436228283977| 4.234857261813437|\n",
      "|    7| 3.312511199825404|3.4546098763022863|\n",
      "|    8| 2.974064619245385| 3.055264414962803|\n",
      "|    9|2.9207535381776637|2.9359324613518836|\n",
      "|   10|2.9671389720233834| 3.026167927346365|\n",
      "|   11| 3.052363968198795|3.1018983661323274|\n",
      "|   12|3.0247739548857164|3.1006005533016476|\n",
      "|   13|3.2236894404348435| 3.287538376634198|\n",
      "|   14|3.3363056974225853|3.4640759017200584|\n",
      "|   15| 3.348922497662815|3.4705730064710987|\n",
      "|   16|3.4096260824623044|  3.59216904979076|\n",
      "|   17|3.2134226203215768|3.3976227716734764|\n",
      "|   18|3.1119905190629167|3.1206717287671397|\n",
      "|   19| 3.098315189080289| 3.142186338495374|\n",
      "+-----+------------------+------------------+\n",
      "only showing top 20 rows\n",
      "\n"
     ]
    }
   ],
   "source": [
    "#Average Trip Distance by Hour of the Day (by Vendor)?\n",
    "df.createOrReplaceTempView('df_taxis')\n",
    "spark.sql(\"\"\"\n",
    "SELECT\n",
    "  hours,\n",
    "  AVG(CASE WHEN vendor_id = '1' THEN distance END) AS vendor_1_avg,\n",
    "  AVG(CASE WHEN vendor_id = '2' THEN distance END) AS vendor_2_avg\n",
    "FROM df_taxis\n",
    "GROUP BY hours\n",
    "ORDER BY hours\n",
    "\n",
    "\n",
    "\"\"\").show()"
   ]
  },
  {
   "cell_type": "code",
   "execution_count": 193,
   "id": "0b7601b7-0c86-4591-bb21-146456e06e16",
   "metadata": {},
   "outputs": [
    {
     "name": "stdout",
     "output_type": "stream",
     "text": [
      "+-----+-----------------+------------------+\n",
      "|hours|     vendor_1_avg|      vendor_2_avg|\n",
      "+-----+-----------------+------------------+\n",
      "|    0|853.0281747485851|1008.2582005786593|\n",
      "|    1|737.8971807628524|1048.9923831844148|\n",
      "|    2|692.4378039793662|1076.2985002083044|\n",
      "|    3|707.1176074622559|1071.3333650914635|\n",
      "|    4|715.6201609812189| 1124.757438794727|\n",
      "|    5|689.3605065294817| 958.1036248484032|\n",
      "|    6|790.0834258231595| 804.4359365825014|\n",
      "|    7|742.0170707380697|  910.973283218204|\n",
      "|    8|824.5490467157509|1011.0853685674548|\n",
      "|    9|841.0579868357681|1012.3943260857659|\n",
      "|   10|844.9043735105562|1007.3095051060487|\n",
      "|   11|873.9017017465293|1044.1598591927768|\n",
      "|   12|876.0890606671279|1094.6220162584787|\n",
      "|   13| 893.661061185752|1156.0063036338595|\n",
      "|   14|936.8904074558163| 1200.818839838355|\n",
      "|   15|958.3235552175947|1264.7195300247215|\n",
      "|   16|951.0301086703665|1193.6766115364385|\n",
      "|   17|919.6063490254189|1124.6683578555724|\n",
      "|   18|856.0129237185394|1086.5058551805178|\n",
      "|   19|790.3038530163476|  982.727218741041|\n",
      "+-----+-----------------+------------------+\n",
      "only showing top 20 rows\n",
      "\n"
     ]
    }
   ],
   "source": [
    "#Average Trip Duration by Hour of the Day (by Vendor)\n",
    "\n",
    "df.createOrReplaceTempView('df_taxis')\n",
    "spark.sql(\"\"\"\n",
    "SELECT\n",
    "  hours,\n",
    "  AVG(CASE WHEN vendor_id = '1' THEN trip_duration END) AS vendor_1_avg,\n",
    "  AVG(CASE WHEN vendor_id = '2' THEN trip_duration END) AS vendor_2_avg\n",
    "FROM df_taxis\n",
    "GROUP BY hours\n",
    "ORDER BY hours\n",
    "\n",
    "\n",
    "\"\"\").show()"
   ]
  },
  {
   "cell_type": "code",
   "execution_count": null,
   "id": "f6aa1261-08ec-49b6-bc80-0498173c80d1",
   "metadata": {},
   "outputs": [],
   "source": []
  }
 ],
 "metadata": {
  "kernelspec": {
   "display_name": "Python 3 (ipykernel)",
   "language": "python",
   "name": "python3"
  },
  "language_info": {
   "codemirror_mode": {
    "name": "ipython",
    "version": 3
   },
   "file_extension": ".py",
   "mimetype": "text/x-python",
   "name": "python",
   "nbconvert_exporter": "python",
   "pygments_lexer": "ipython3",
   "version": "3.11.6"
  }
 },
 "nbformat": 4,
 "nbformat_minor": 5
}
