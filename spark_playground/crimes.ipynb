{
 "cells": [
  {
   "cell_type": "markdown",
   "id": "bc6ed3ac-8829-4747-b3a3-008798e78ae9",
   "metadata": {},
   "source": [
    "### Chicago Crime Data Dictionary\n",
    "\n",
    "| **Column Name**           | **Description**                                                                                                                                                                      \n",
    "|---------------------------|--------------------------------------------------------------------------------------------------------------------------------------------------------------------------------------\n",
    "| **ID**                    | Unique identifier for the record.                                                                                                                                                   | \n",
    "| **Case Number**           | The Chicago Police Department RD Number (Records Division Number), unique to the incident.                                                                                           | \n",
    "| **Date**                  | Date when the incident occurred. This may be a best estimate.                                                                                                                        | \n",
    "| **Block**                 | The partially redacted address where the incident occurred, placing it on the same block as the actual address.                                                                      | \n",
    "| **IUCR**                  | Illinois Uniform Crime Reporting code, linked to Primary Type and Description. [IUCR Codes](https://data.cityofchicago.org/d/c7ck-438e)                                              | \n",
    "| **Primary Type**          | The primary description of the IUCR code.                                                                                                                                            |\n",
    "| **Description**           | The secondary (subcategory) description of the IUCR code.                                                                                                                            | \n",
    "| **Location Description**  | Description of where the incident occurred.                                                                                                                                          | \n",
    "| **Arrest**                | Whether an arrest was made (`true`/`false`).                                                                                                                                         | \n",
    "| **Domestic**              | Whether the incident was domestic-related as per the Illinois Domestic Violence Act.                                                                                                |\n",
    "| **Beat**                  | Police beat where the incident occurred. Beats are the smallest police geographic units. [Beats Info](https://data.cityofchicago.org/d/aerh-rz74)                                   | \n",
    "| **District**              | Police district where the incident occurred. [Districts Info](https://data.cityofchicago.org/d/fthy-xz3r)                                                                            |\n",
    "| **Ward**                  | City Council ward where the incident occurred. [Wards Info](https://data.cityofchicago.org/d/sp34-6z76)                                                                             |            \n",
    "| **Community Area**        | The community area (1 of 77) where the incident occurred. [Community Areas](https://data.cityofchicago.org/d/cauq-8yn6)                                                              |\n",
    "| **FBI Code**              | Crime classification per the FBI’s NIBRS system. [FBI Classifications](https://gis.chicagopolice.org/pages/crime_details)                                                           | \n",
    "| **X Coordinate**          | \n",
    "The x coordinate of the location where the incident occurred in State Plane Illinois East NAD 1983 projection. This location is shifted from the actual location for partial redaction but falls on the same bloc.               |\n",
    "| **Y Coordinate**          |  The y coordinate of the location where the incident occurred in State Plane Illinois East NAD 1983 projection. This location is shifted from the actual location for partial redaction but falls on the same block.               |\n",
    "| **Year**                  | Year the incident occurred.                                                     |\n",
    "| **Updated On**            | Date and time the record was last updated.                                      |\n",
    "| **Latitude**              | The latitude of the location where the incident occurred. This location is shifted from the actual location for partial redaction but falls on the same block.                                                                |\n",
    "| **Longitude**             | The longitude of the location where the incident occurred. This location is shifted from the actual location for partial redaction but falls on the same block.                                                                |\n",
    "| **Location**              | The location where the incident occurred in a format that allows for creation of maps and other geographic operations on this data portal. This location is shifted from the actual location for partial redaction but falls on the same block.            |\n",
    "\n",
    "\n",
    "\n",
    "\n",
    "\n",
    "\n",
    "\n",
    "\n",
    "\n",
    "\n",
    "\n",
    "\n",
    "\n",
    "\n",
    "\n",
    "\n",
    "\n",
    "\n",
    "\n",
    "\n",
    "\n",
    "\n",
    "\n",
    "\n",
    "block.\r\n",
    "location\r\n",
    "Location\r\n"
   ]
  },
  {
   "cell_type": "code",
   "execution_count": 1,
   "id": "5d5455aa-e574-44ae-8db0-b1e334d6f6de",
   "metadata": {},
   "outputs": [],
   "source": [
    "import pyspark"
   ]
  },
  {
   "cell_type": "code",
   "execution_count": 2,
   "id": "ff65e64c-e8c6-464c-9072-6b0575a3c597",
   "metadata": {},
   "outputs": [],
   "source": [
    "from pyspark.sql import SparkSession\n",
    "from pyspark.sql import functions as f\n",
    "from pyspark.sql import types as t"
   ]
  },
  {
   "cell_type": "code",
   "execution_count": 3,
   "id": "9482a550-303d-42dc-98a2-361060f594a9",
   "metadata": {},
   "outputs": [],
   "source": [
    "spark = SparkSession\\\n",
    ".builder\\\n",
    ".appName('Spark_LABs')\\\n",
    ".getOrCreate()"
   ]
  },
  {
   "cell_type": "code",
   "execution_count": 4,
   "id": "8c83668e-b35f-42eb-aae4-76898b824161",
   "metadata": {},
   "outputs": [],
   "source": [
    "crimes= spark\\\n",
    ".read\\\n",
    ".format('csv')\\\n",
    ".option('header',True)\\\n",
    ".option('inferSchema', True)\\\n",
    ".load('Crimes_-_2001_to_Present_20250513.csv')"
   ]
  },
  {
   "cell_type": "code",
   "execution_count": 5,
   "id": "616c626b-7fb7-4b7d-ba51-4cddb6f57342",
   "metadata": {},
   "outputs": [
    {
     "name": "stdout",
     "output_type": "stream",
     "text": [
      "root\n",
      " |-- ID: integer (nullable = true)\n",
      " |-- Case Number: string (nullable = true)\n",
      " |-- Date: string (nullable = true)\n",
      " |-- Block: string (nullable = true)\n",
      " |-- IUCR: string (nullable = true)\n",
      " |-- Primary Type: string (nullable = true)\n",
      " |-- Description: string (nullable = true)\n",
      " |-- Location Description: string (nullable = true)\n",
      " |-- Arrest: boolean (nullable = true)\n",
      " |-- Domestic: boolean (nullable = true)\n",
      " |-- Beat: integer (nullable = true)\n",
      " |-- District: integer (nullable = true)\n",
      " |-- Ward: integer (nullable = true)\n",
      " |-- Community Area: integer (nullable = true)\n",
      " |-- FBI Code: string (nullable = true)\n",
      " |-- X Coordinate: integer (nullable = true)\n",
      " |-- Y Coordinate: integer (nullable = true)\n",
      " |-- Year: integer (nullable = true)\n",
      " |-- Updated On: string (nullable = true)\n",
      " |-- Latitude: double (nullable = true)\n",
      " |-- Longitude: double (nullable = true)\n",
      " |-- Location: string (nullable = true)\n",
      "\n"
     ]
    }
   ],
   "source": [
    "crimes.printSchema()"
   ]
  },
  {
   "cell_type": "code",
   "execution_count": 6,
   "id": "11374dc9-11ea-4f11-b880-e474fdfd28a7",
   "metadata": {},
   "outputs": [
    {
     "name": "stdout",
     "output_type": "stream",
     "text": [
      "+--------+-----------+----------------------+---------------+----+--------------------------+-----------------+--------------------+------+--------+----+--------+----+--------------+--------+------------+------------+----+----------------------+--------+---------+--------+\n",
      "|ID      |Case Number|Date                  |Block          |IUCR|Primary Type              |Description      |Location Description|Arrest|Domestic|Beat|District|Ward|Community Area|FBI Code|X Coordinate|Y Coordinate|Year|Updated On            |Latitude|Longitude|Location|\n",
      "+--------+-----------+----------------------+---------------+----+--------------------------+-----------------+--------------------+------+--------+----+--------+----+--------------+--------+------------+------------+----+----------------------+--------+---------+--------+\n",
      "|13311263|JG503434   |07/29/2022 03:39:00 AM|023XX S TROY ST|1582|OFFENSE INVOLVING CHILDREN|CHILD PORNOGRAPHY|RESIDENCE           |true  |false   |1033|10      |25  |30            |17      |NULL        |NULL        |2022|04/18/2024 03:40:59 PM|NULL    |NULL     |NULL    |\n",
      "+--------+-----------+----------------------+---------------+----+--------------------------+-----------------+--------------------+------+--------+----+--------+----+--------------+--------+------------+------------+----+----------------------+--------+---------+--------+\n",
      "only showing top 1 row\n",
      "\n"
     ]
    }
   ],
   "source": [
    "crimes.show(1,truncate=False)"
   ]
  },
  {
   "cell_type": "code",
   "execution_count": 7,
   "id": "6b831087-bff9-4952-8497-528de2cba0e6",
   "metadata": {},
   "outputs": [
    {
     "data": {
      "text/plain": [
       "['ID',\n",
       " 'Case Number',\n",
       " 'Date',\n",
       " 'Block',\n",
       " 'IUCR',\n",
       " 'Primary Type',\n",
       " 'Description',\n",
       " 'Location Description',\n",
       " 'Arrest',\n",
       " 'Domestic',\n",
       " 'Beat',\n",
       " 'District',\n",
       " 'Ward',\n",
       " 'Community Area',\n",
       " 'FBI Code',\n",
       " 'X Coordinate',\n",
       " 'Y Coordinate',\n",
       " 'Year',\n",
       " 'Updated On',\n",
       " 'Latitude',\n",
       " 'Longitude',\n",
       " 'Location']"
      ]
     },
     "execution_count": 7,
     "metadata": {},
     "output_type": "execute_result"
    }
   ],
   "source": [
    "crimes.columns"
   ]
  },
  {
   "cell_type": "code",
   "execution_count": 8,
   "id": "fc77e610-1b57-46b2-9867-1592b7c71aab",
   "metadata": {},
   "outputs": [],
   "source": [
    "schema = t.StructType(\n",
    "    [\n",
    "\n",
    "t.StructField( 'ID',t.IntegerType(),True),\n",
    "t.StructField( 'Case Number',t.StringType(),True),\n",
    " t.StructField('Date',t.StringType(),True),\n",
    " t.StructField('Block',t.StringType(),True),\n",
    " t.StructField('IUCR',t.StringType(),True),\n",
    " t.StructField('Primary Type',t.StringType(),True),\n",
    " t.StructField('Description',t.StringType(),True),\n",
    " t.StructField('Location Description',t.StringType(),True),\n",
    "t.StructField( 'Arrest',t.BooleanType(),True),\n",
    " t.StructField('Domestic',t.BooleanType(),True),\n",
    " t.StructField( 'Beat',t.IntegerType(),True),\n",
    " t.StructField('District',t.IntegerType(),True),\n",
    " t.StructField('Ward',t.IntegerType(),True),\n",
    " t.StructField('Community Area',t.IntegerType(),True),\n",
    " t.StructField('FBI Code',t.StringType(),True),\n",
    " t.StructField('X Coordinate',t.IntegerType(),True),\n",
    " t.StructField('Y Coordinate',t.IntegerType(),True),\n",
    " t.StructField('Year',t.IntegerType(),True),\n",
    " t.StructField('Updated On',t.TimestampType(),True),\n",
    " t.StructField('Latitude',t.DoubleType(),True),\n",
    " t.StructField('Longitude',t.DoubleType(),True),\n",
    "t.StructField( 'Location',t.StringType(),True)]\n",
    "\n",
    ")"
   ]
  },
  {
   "cell_type": "code",
   "execution_count": 9,
   "id": "f673a812-0035-413a-84a7-04f69cc0b7f0",
   "metadata": {},
   "outputs": [],
   "source": [
    "crimes= spark\\\n",
    ".read\\\n",
    ".option('header',True)\\\n",
    ".schema(schema)\\\n",
    ".csv('Crimes_-_2001_to_Present_20250513.csv')"
   ]
  },
  {
   "cell_type": "code",
   "execution_count": 10,
   "id": "0c287347-d863-48d6-8ccc-94d3f776e5d2",
   "metadata": {},
   "outputs": [
    {
     "name": "stdout",
     "output_type": "stream",
     "text": [
      "root\n",
      " |-- ID: integer (nullable = true)\n",
      " |-- Case Number: string (nullable = true)\n",
      " |-- Date: string (nullable = true)\n",
      " |-- Block: string (nullable = true)\n",
      " |-- IUCR: string (nullable = true)\n",
      " |-- Primary Type: string (nullable = true)\n",
      " |-- Description: string (nullable = true)\n",
      " |-- Location Description: string (nullable = true)\n",
      " |-- Arrest: boolean (nullable = true)\n",
      " |-- Domestic: boolean (nullable = true)\n",
      " |-- Beat: integer (nullable = true)\n",
      " |-- District: integer (nullable = true)\n",
      " |-- Ward: integer (nullable = true)\n",
      " |-- Community Area: integer (nullable = true)\n",
      " |-- FBI Code: string (nullable = true)\n",
      " |-- X Coordinate: integer (nullable = true)\n",
      " |-- Y Coordinate: integer (nullable = true)\n",
      " |-- Year: integer (nullable = true)\n",
      " |-- Updated On: timestamp (nullable = true)\n",
      " |-- Latitude: double (nullable = true)\n",
      " |-- Longitude: double (nullable = true)\n",
      " |-- Location: string (nullable = true)\n",
      "\n"
     ]
    }
   ],
   "source": [
    "crimes.printSchema()"
   ]
  },
  {
   "cell_type": "code",
   "execution_count": 11,
   "id": "b6a4c5b4-c213-4409-936e-210bd25ad1cb",
   "metadata": {},
   "outputs": [
    {
     "data": {
      "text/plain": [
       "8312355"
      ]
     },
     "execution_count": 11,
     "metadata": {},
     "output_type": "execute_result"
    }
   ],
   "source": [
    "crimes.count()"
   ]
  },
  {
   "cell_type": "code",
   "execution_count": 12,
   "id": "11fa357f-5161-4591-a651-2d17404a62df",
   "metadata": {},
   "outputs": [
    {
     "name": "stdout",
     "output_type": "stream",
     "text": [
      "+--------+-----------+--------------------+--------------------+----+--------------------+--------------------+--------------------+------+--------+----+--------+----+--------------+--------+------------+------------+----+----------+--------+---------+--------+\n",
      "|      ID|Case Number|                Date|               Block|IUCR|        Primary Type|         Description|Location Description|Arrest|Domestic|Beat|District|Ward|Community Area|FBI Code|X Coordinate|Y Coordinate|Year|Updated On|Latitude|Longitude|Location|\n",
      "+--------+-----------+--------------------+--------------------+----+--------------------+--------------------+--------------------+------+--------+----+--------+----+--------------+--------+------------+------------+----+----------+--------+---------+--------+\n",
      "|13311263|   JG503434|07/29/2022 03:39:...|     023XX S TROY ST|1582|OFFENSE INVOLVING...|   CHILD PORNOGRAPHY|           RESIDENCE|  true|   false|1033|      10|  25|            30|      17|        NULL|        NULL|2022|      NULL|    NULL|     NULL|    NULL|\n",
      "|13053066|   JG103252|01/03/2023 04:44:...|039XX W WASHINGTO...|2017|           NARCOTICS|MANUFACTURE / DEL...|            SIDEWALK|  true|   false|1122|      11|  28|            26|      18|        NULL|        NULL|2023|      NULL|    NULL|     NULL|    NULL|\n",
      "+--------+-----------+--------------------+--------------------+----+--------------------+--------------------+--------------------+------+--------+----+--------+----+--------------+--------+------------+------------+----+----------+--------+---------+--------+\n",
      "only showing top 2 rows\n",
      "\n"
     ]
    }
   ],
   "source": [
    "crimes.show(2)"
   ]
  },
  {
   "cell_type": "code",
   "execution_count": 13,
   "id": "420df862-1169-4471-8eef-d0af24aec816",
   "metadata": {},
   "outputs": [
    {
     "data": {
      "text/plain": [
       "['ID',\n",
       " 'Case Number',\n",
       " 'Date',\n",
       " 'Block',\n",
       " 'IUCR',\n",
       " 'Primary Type',\n",
       " 'Description',\n",
       " 'Location Description',\n",
       " 'Arrest',\n",
       " 'Domestic',\n",
       " 'Beat',\n",
       " 'District',\n",
       " 'Ward',\n",
       " 'Community Area',\n",
       " 'FBI Code',\n",
       " 'X Coordinate',\n",
       " 'Y Coordinate',\n",
       " 'Year',\n",
       " 'Updated On',\n",
       " 'Latitude',\n",
       " 'Longitude',\n",
       " 'Location']"
      ]
     },
     "execution_count": 13,
     "metadata": {},
     "output_type": "execute_result"
    }
   ],
   "source": [
    "['ID',\n",
    " 'Case Number',\n",
    " 'Date',\n",
    " 'Block',\n",
    " 'IUCR',\n",
    " 'Primary Type',\n",
    " 'Description',\n",
    " 'Location Description',\n",
    " 'Arrest',\n",
    " 'Domestic',\n",
    " 'Beat',\n",
    " 'District',\n",
    " 'Ward',\n",
    " 'Community Area',\n",
    " 'FBI Code',\n",
    " 'X Coordinate',\n",
    " 'Y Coordinate',\n",
    " 'Year',\n",
    " 'Updated On',\n",
    " 'Latitude',\n",
    " 'Longitude',\n",
    " 'Location']"
   ]
  },
  {
   "cell_type": "code",
   "execution_count": 14,
   "id": "341e0aef-d169-47b2-990c-f521490668c2",
   "metadata": {},
   "outputs": [
    {
     "data": {
      "text/plain": [
       "0"
      ]
     },
     "execution_count": 14,
     "metadata": {},
     "output_type": "execute_result"
    }
   ],
   "source": [
    "crimes.where(f.col('ID').isNull()).count()\n",
    " "
   ]
  },
  {
   "cell_type": "code",
   "execution_count": 15,
   "id": "1d33ef86-e82a-4862-8861-7b64ad7d6bd0",
   "metadata": {},
   "outputs": [
    {
     "data": {
      "text/plain": [
       "0"
      ]
     },
     "execution_count": 15,
     "metadata": {},
     "output_type": "execute_result"
    }
   ],
   "source": [
    "crimes.where(f.col('Case Number').isNull()).count()"
   ]
  },
  {
   "cell_type": "code",
   "execution_count": 16,
   "id": "a2a75fd9-8701-44db-a1e0-d1e70093716b",
   "metadata": {},
   "outputs": [
    {
     "data": {
      "text/plain": [
       "('Beat',)"
      ]
     },
     "execution_count": 16,
     "metadata": {},
     "output_type": "execute_result"
    }
   ],
   "source": [
    " 'Date',\n",
    " 'Block',\n",
    "'Year'\n",
    " 'Primary Type',\n",
    "\n",
    " 'Arrest',\n",
    " 'Domestic',\n",
    " 'Beat',\n",
    " "
   ]
  },
  {
   "cell_type": "code",
   "execution_count": 47,
   "id": "beada81e-4b0e-449c-bb7c-e3a05012ad7c",
   "metadata": {},
   "outputs": [],
   "source": [
    "#Dates Transformation\n",
    "crimes = crimes.withColumn(\n",
    "    \"date_new\",\n",
    "    f.to_timestamp(f.col(\"Date\"), \"MM/dd/yyyy hh:mm:ss a\")\n",
    ")\n",
    "\n"
   ]
  },
  {
   "cell_type": "code",
   "execution_count": 48,
   "id": "2da5e87b-b559-4a1a-b6b7-eb06873fa7b5",
   "metadata": {},
   "outputs": [],
   "source": [
    "crimes=crimes.withColumn('period',f.date_format(f.col('date_new'),'a'))\n"
   ]
  },
  {
   "cell_type": "code",
   "execution_count": 49,
   "id": "73a9b675-1ebd-450f-ade5-e50ecd398e67",
   "metadata": {},
   "outputs": [
    {
     "name": "stdout",
     "output_type": "stream",
     "text": [
      "+------+\n",
      "|Months|\n",
      "+------+\n",
      "|    07|\n",
      "|    01|\n",
      "+------+\n",
      "only showing top 2 rows\n",
      "\n"
     ]
    }
   ],
   "source": [
    "crimes=crimes.withColumn('Months',f.date_format(f.col('date_new'),'MM'))\n",
    "crimes.select (f.col('Months')).show(2)"
   ]
  },
  {
   "cell_type": "code",
   "execution_count": 109,
   "id": "cc1bb50a-854a-4154-b232-f7df23242f59",
   "metadata": {},
   "outputs": [
    {
     "name": "stdout",
     "output_type": "stream",
     "text": [
      "+-----+\n",
      "|hours|\n",
      "+-----+\n",
      "|   03|\n",
      "|   04|\n",
      "+-----+\n",
      "only showing top 2 rows\n",
      "\n"
     ]
    }
   ],
   "source": [
    "crimes=crimes.withColumn('hours',f.date_format(f.col('date_new'),'hh'))\n",
    "crimes.select (f.col('hours')).show(2)"
   ]
  },
  {
   "cell_type": "code",
   "execution_count": 20,
   "id": "44ec2fce-47b5-4f8a-83fc-f4b4407dbab3",
   "metadata": {},
   "outputs": [],
   "source": [
    "# address Transformation"
   ]
  },
  {
   "cell_type": "code",
   "execution_count": 21,
   "id": "a3c4c374-f97d-4491-83c6-b449f0d5d6a9",
   "metadata": {},
   "outputs": [
    {
     "name": "stdout",
     "output_type": "stream",
     "text": [
      "+--------------------+\n",
      "|               Block|\n",
      "+--------------------+\n",
      "|     023XX S TROY ST|\n",
      "|039XX W WASHINGTO...|\n",
      "+--------------------+\n",
      "only showing top 2 rows\n",
      "\n"
     ]
    }
   ],
   "source": [
    "crimes.select (f.col('Block')).show(2)"
   ]
  },
  {
   "cell_type": "code",
   "execution_count": 22,
   "id": "ebf3ebbf-677c-4a3c-947c-936903def368",
   "metadata": {},
   "outputs": [
    {
     "name": "stdout",
     "output_type": "stream",
     "text": [
      "+-----------------+\n",
      "|        new_block|\n",
      "+-----------------+\n",
      "|          TROY ST|\n",
      "|  WASHINGTON BLVD|\n",
      "+-----------------+\n",
      "only showing top 2 rows\n",
      "\n"
     ]
    }
   ],
   "source": [
    "crimes=crimes.withColumn(\"new_block\",f.regexp_replace(f.col(\"Block\"),  f.col('Block')[0:7],\" \"))\n",
    "crimes.select (f.col('new_block')).show(2)"
   ]
  },
  {
   "cell_type": "code",
   "execution_count": 23,
   "id": "b0e85e9d-ad95-4dc3-951b-cea0261376fb",
   "metadata": {},
   "outputs": [
    {
     "name": "stdout",
     "output_type": "stream",
     "text": [
      "+--------------------+\n",
      "|Location Description|\n",
      "+--------------------+\n",
      "|   RAILROAD PROPERTY|\n",
      "|SCHOOL - PRIVATE ...|\n",
      "|AIRPORT TERMINAL ...|\n",
      "+--------------------+\n",
      "only showing top 3 rows\n",
      "\n",
      "+--------------+\n",
      "|short_location|\n",
      "+--------------+\n",
      "|     RESIDENCE|\n",
      "|      SIDEWALK|\n",
      "|   HOTEL/MOTEL|\n",
      "+--------------+\n",
      "only showing top 3 rows\n",
      "\n"
     ]
    }
   ],
   "source": [
    "crimes.select (f.col('Location Description')).distinct().show(3)\n",
    "crimes=crimes.withColumn(\"short_location\",f.split(f.col('Location Description'),\" \")[0])\n",
    "crimes.select (f.col('short_location')).show(3)"
   ]
  },
  {
   "cell_type": "code",
   "execution_count": 107,
   "id": "74de0e72-16fa-4ff2-aabd-114e05c907c2",
   "metadata": {},
   "outputs": [],
   "source": [
    "crimes.where( f.col('Community Area').isNull()).count()\n",
    "mode_v = crimes.where(f.col(\"Community Area\").isNotNull()) \\\n",
    "                   .groupBy(\"Community Area\") \\\n",
    "                   .count() \\\n",
    "                   .orderBy(\"count\", ascending=False) \\\n",
    "                   .take(1)\n",
    "mode_value = mode_v[0][0]\n",
    "\n",
    "crimes=crimes.fillna({'Community Area':mode_value})"
   ]
  },
  {
   "cell_type": "code",
   "execution_count": 24,
   "id": "0a8d9fba-5c83-4a03-ac30-ef42cf4b700f",
   "metadata": {},
   "outputs": [
    {
     "name": "stdout",
     "output_type": "stream",
     "text": [
      "+--------------------+\n",
      "|        Primary Type|\n",
      "+--------------------+\n",
      "|OFFENSE INVOLVING...|\n",
      "|CRIMINAL SEXUAL A...|\n",
      "|            STALKING|\n",
      "|PUBLIC PEACE VIOL...|\n",
      "|           OBSCENITY|\n",
      "|               ARSON|\n",
      "|   DOMESTIC VIOLENCE|\n",
      "|            GAMBLING|\n",
      "|   CRIMINAL TRESPASS|\n",
      "|             ASSAULT|\n",
      "|LIQUOR LAW VIOLATION|\n",
      "| MOTOR VEHICLE THEFT|\n",
      "|               THEFT|\n",
      "|             BATTERY|\n",
      "|             ROBBERY|\n",
      "|            HOMICIDE|\n",
      "|           RITUALISM|\n",
      "|    PUBLIC INDECENCY|\n",
      "| CRIM SEXUAL ASSAULT|\n",
      "|   HUMAN TRAFFICKING|\n",
      "+--------------------+\n",
      "only showing top 20 rows\n",
      "\n"
     ]
    }
   ],
   "source": [
    "crimes.select (f.col('Primary Type')).distinct().show()"
   ]
  },
  {
   "cell_type": "code",
   "execution_count": 25,
   "id": "0c59f4ec-1be8-4f64-9001-65c7689666f7",
   "metadata": {},
   "outputs": [
    {
     "name": "stdout",
     "output_type": "stream",
     "text": [
      "+--------------+\n",
      "|Community Area|\n",
      "+--------------+\n",
      "|            31|\n",
      "|            65|\n",
      "|            53|\n",
      "|            34|\n",
      "|            28|\n",
      "|            76|\n",
      "|            26|\n",
      "|            27|\n",
      "|            44|\n",
      "|            12|\n",
      "|            22|\n",
      "|            47|\n",
      "|             1|\n",
      "|            52|\n",
      "|            13|\n",
      "|            16|\n",
      "|             6|\n",
      "|             3|\n",
      "|            40|\n",
      "|            20|\n",
      "+--------------+\n",
      "only showing top 20 rows\n",
      "\n"
     ]
    }
   ],
   "source": [
    "crimes.select (f.col('Community Area')).distinct().show()"
   ]
  },
  {
   "cell_type": "code",
   "execution_count": 26,
   "id": "a74ab8b8-6e4c-48d1-8b38-daf10f74ec6d",
   "metadata": {},
   "outputs": [
    {
     "name": "stdout",
     "output_type": "stream",
     "text": [
      "+--------+\n",
      "|Domestic|\n",
      "+--------+\n",
      "|    true|\n",
      "|   false|\n",
      "+--------+\n",
      "\n"
     ]
    }
   ],
   "source": [
    "crimes.select (f.col('Domestic')).distinct().show()"
   ]
  },
  {
   "cell_type": "code",
   "execution_count": 27,
   "id": "d304b989-f27a-4406-bdfe-7e0355943068",
   "metadata": {},
   "outputs": [
    {
     "name": "stdout",
     "output_type": "stream",
     "text": [
      "+------+\n",
      "|Arrest|\n",
      "+------+\n",
      "|  true|\n",
      "| false|\n",
      "+------+\n",
      "\n"
     ]
    }
   ],
   "source": [
    "crimes.select (f.col('Arrest')).distinct().show()"
   ]
  },
  {
   "cell_type": "markdown",
   "id": "479b5376-e841-4546-a046-3c8015f22aae",
   "metadata": {},
   "source": [
    "### Are crimes increasing or decreasing over time?"
   ]
  },
  {
   "cell_type": "code",
   "execution_count": 57,
   "id": "a7b727d0-4d40-4058-b142-85f49ca012c0",
   "metadata": {},
   "outputs": [
    {
     "name": "stdout",
     "output_type": "stream",
     "text": [
      "+------+------+\n",
      "|Months| count|\n",
      "+------+------+\n",
      "|    01|660994|\n",
      "|    02|584261|\n",
      "|    03|691012|\n",
      "|    04|687643|\n",
      "|    05|730191|\n",
      "|    06|727834|\n",
      "|    07|765515|\n",
      "|    08|757815|\n",
      "|    09|714008|\n",
      "|    10|721979|\n",
      "|    11|650259|\n",
      "|    12|620844|\n",
      "+------+------+\n",
      "\n"
     ]
    }
   ],
   "source": [
    "crimes.groupBy('Months').count().orderBy('Months').show()"
   ]
  },
  {
   "cell_type": "code",
   "execution_count": 51,
   "id": "c813452b-5c73-4d2f-a0a3-74c2652e2c9e",
   "metadata": {},
   "outputs": [
    {
     "name": "stdout",
     "output_type": "stream",
     "text": [
      "+------+-------+\n",
      "|period|  count|\n",
      "+------+-------+\n",
      "|    PM|5217166|\n",
      "|    AM|3095189|\n",
      "+------+-------+\n",
      "\n"
     ]
    }
   ],
   "source": [
    "crimes.groupBy('period').count().show()"
   ]
  },
  {
   "cell_type": "code",
   "execution_count": 127,
   "id": "9ff975e1-148c-489a-9b55-6e73305b362c",
   "metadata": {},
   "outputs": [
    {
     "name": "stdout",
     "output_type": "stream",
     "text": [
      "+-----+------+------+\n",
      "|hours|period| count|\n",
      "+-----+------+------+\n",
      "|   12|    AM|482880|\n",
      "|   12|    PM|477115|\n",
      "|   07|    PM|465451|\n",
      "|   08|    PM|462955|\n",
      "|   06|    PM|453411|\n",
      "|   09|    PM|447889|\n",
      "|   03|    PM|442906|\n",
      "|   10|    PM|439901|\n",
      "|   05|    PM|428148|\n",
      "|   04|    PM|420998|\n",
      "|   02|    PM|417454|\n",
      "|   01|    PM|393128|\n",
      "|   11|    AM|368315|\n",
      "|   11|    PM|367810|\n",
      "|   09|    AM|358534|\n",
      "|   10|    AM|352438|\n",
      "|   08|    AM|281595|\n",
      "|   01|    AM|264365|\n",
      "|   02|    AM|223727|\n",
      "|   07|    AM|191205|\n",
      "+-----+------+------+\n",
      "only showing top 20 rows\n",
      "\n"
     ]
    }
   ],
   "source": [
    "crimes.groupBy('hours','period').count().orderBy(\"count\", ascending=False).show()"
   ]
  },
  {
   "cell_type": "code",
   "execution_count": 74,
   "id": "bf45e2b7-8276-4e1a-8e46-a5b408905865",
   "metadata": {},
   "outputs": [
    {
     "name": "stdout",
     "output_type": "stream",
     "text": [
      "+----+------+\n",
      "|Year| count|\n",
      "+----+------+\n",
      "|2025| 74805|\n",
      "|2024|258140|\n",
      "|2023|262960|\n",
      "|2022|239791|\n",
      "|2021|209492|\n",
      "|2020|212586|\n",
      "|2019|261617|\n",
      "|2018|269107|\n",
      "|2017|269267|\n",
      "|2016|269961|\n",
      "|2015|264877|\n",
      "|2014|275880|\n",
      "|2013|307600|\n",
      "|2012|336364|\n",
      "|2011|352031|\n",
      "|2010|370547|\n",
      "|2009|392853|\n",
      "|2008|427208|\n",
      "|2007|437102|\n",
      "|2006|448195|\n",
      "+----+------+\n",
      "only showing top 20 rows\n",
      "\n"
     ]
    }
   ],
   "source": [
    "crimes.groupBy('Year').count().orderBy(\"Year\", ascending=False).show()"
   ]
  },
  {
   "cell_type": "markdown",
   "id": "5fdfdc34-3c13-41e1-a2c3-f037f04fd683",
   "metadata": {},
   "source": [
    "### Are domestic crimes more likely to result in arrests?"
   ]
  },
  {
   "cell_type": "code",
   "execution_count": 77,
   "id": "848fda1c-0593-4e72-82ca-12d939777c77",
   "metadata": {},
   "outputs": [
    {
     "name": "stdout",
     "output_type": "stream",
     "text": [
      "+--------+------+-------+\n",
      "|Domestic|Arrest|  count|\n",
      "+--------+------+-------+\n",
      "|    true| false|1156449|\n",
      "|    true|  true| 276455|\n",
      "|   false| false|5047889|\n",
      "|   false|  true|1831562|\n",
      "+--------+------+-------+\n",
      "\n"
     ]
    }
   ],
   "source": [
    "crimes.groupBy(f.col('Domestic') , f.col('Arrest') ).count().show()"
   ]
  },
  {
   "cell_type": "code",
   "execution_count": 61,
   "id": "3d8d8f67-5651-4c44-ad7f-3c05ee86b424",
   "metadata": {},
   "outputs": [
    {
     "name": "stdout",
     "output_type": "stream",
     "text": [
      "+--------+-------+\n",
      "|Domestic|  count|\n",
      "+--------+-------+\n",
      "|    true|1432904|\n",
      "|   false|6879451|\n",
      "+--------+-------+\n",
      "\n"
     ]
    }
   ],
   "source": [
    "\n",
    "crimes.groupBy(f.col('Domestic')  ).count().show()"
   ]
  },
  {
   "cell_type": "code",
   "execution_count": 62,
   "id": "057e970d-faa9-4879-9f89-67ac467b50ff",
   "metadata": {},
   "outputs": [
    {
     "name": "stdout",
     "output_type": "stream",
     "text": [
      "+------+-------+\n",
      "|Arrest|  count|\n",
      "+------+-------+\n",
      "|  true|2108017|\n",
      "| false|6204338|\n",
      "+------+-------+\n",
      "\n"
     ]
    }
   ],
   "source": [
    "crimes.groupBy(f.col('Arrest') ).count().show()"
   ]
  },
  {
   "cell_type": "markdown",
   "id": "a5e51f62-28dd-4952-b339-e4a93402cbd9",
   "metadata": {},
   "source": [
    "### What are the most common types of crime?"
   ]
  },
  {
   "cell_type": "code",
   "execution_count": 75,
   "id": "bdeb4c55-6ae1-4cfd-ab40-788eb27d1f41",
   "metadata": {},
   "outputs": [
    {
     "name": "stdout",
     "output_type": "stream",
     "text": [
      "+--------------------+-------+\n",
      "|        Primary Type|  count|\n",
      "+--------------------+-------+\n",
      "|               THEFT|1762465|\n",
      "|             BATTERY|1514461|\n",
      "|     CRIMINAL DAMAGE| 945462|\n",
      "|           NARCOTICS| 760647|\n",
      "|             ASSAULT| 553999|\n",
      "|       OTHER OFFENSE| 517900|\n",
      "|            BURGLARY| 440646|\n",
      "| MOTOR VEHICLE THEFT| 422754|\n",
      "|  DECEPTIVE PRACTICE| 380714|\n",
      "|             ROBBERY| 311730|\n",
      "|   CRIMINAL TRESPASS| 224262|\n",
      "|   WEAPONS VIOLATION| 122249|\n",
      "|        PROSTITUTION|  70317|\n",
      "|OFFENSE INVOLVING...|  59644|\n",
      "|PUBLIC PEACE VIOL...|  54250|\n",
      "|         SEX OFFENSE|  33559|\n",
      "| CRIM SEXUAL ASSAULT|  27324|\n",
      "|INTERFERENCE WITH...|  19802|\n",
      "|LIQUOR LAW VIOLATION|  15300|\n",
      "|            GAMBLING|  14656|\n",
      "+--------------------+-------+\n",
      "only showing top 20 rows\n",
      "\n"
     ]
    }
   ],
   "source": [
    "crimes.groupBy(f.col('Primary Type')).count().orderBy('count',ascending=False).show()"
   ]
  },
  {
   "cell_type": "code",
   "execution_count": 63,
   "id": "a043f0a5-af90-4ded-ab8d-7b38f84a2bb2",
   "metadata": {},
   "outputs": [
    {
     "name": "stdout",
     "output_type": "stream",
     "text": [
      "+------------------+------+\n",
      "|    short_location| count|\n",
      "+------------------+------+\n",
      "|              BOAT|   140|\n",
      "|             MOTEL|     7|\n",
      "|          SIDEWALK|756151|\n",
      "|               CAR|  3576|\n",
      "|            SPORTS|  5972|\n",
      "|           BANQUET|     2|\n",
      "|        GOVERNMENT| 17312|\n",
      "|            VACANT| 28489|\n",
      "|  AIRPORT/AIRCRAFT| 16296|\n",
      "|          HOSPITAL| 29187|\n",
      "|              JAIL|  1298|\n",
      "|           TRAILER|     4|\n",
      "|           ROOMING|     2|\n",
      "|          CEMETARY|   434|\n",
      "|             HOUSE|   701|\n",
      "|               ATM|  8683|\n",
      "|          DRIVEWAY| 24448|\n",
      "|VEHICLE-COMMERCIAL|  5635|\n",
      "|         WAREHOUSE| 10641|\n",
      "|          ATHLETIC| 10152|\n",
      "+------------------+------+\n",
      "only showing top 20 rows\n",
      "\n"
     ]
    }
   ],
   "source": [
    "crimes.groupBy (f.col('short_location')).count().show()"
   ]
  },
  {
   "cell_type": "code",
   "execution_count": 64,
   "id": "cbbdfd18-0710-43c8-aadb-f0aa71f9a51f",
   "metadata": {},
   "outputs": [
    {
     "name": "stdout",
     "output_type": "stream",
     "text": [
      "+--------------------+-----+\n",
      "|           new_block|count|\n",
      "+--------------------+-----+\n",
      "|       FULLERTON AVE|33211|\n",
      "|          MONTANA ST| 2996|\n",
      "|          HOBART AVE|  142|\n",
      "|        Blackhawk St|   11|\n",
      "|         Brodman Ave|    1|\n",
      "|       Sunnyside Ave|   23|\n",
      "|           Barry ave|    5|\n",
      "|         Aberdeen st|    4|\n",
      "|        Clarence Ave|    1|\n",
      "|  LAWRENCE AV JFK ER|    2|\n",
      "|               44 PL|  118|\n",
      "|        HOLLYWOOD AV|  235|\n",
      "|         FULTON AV `|    1|\n",
      "|           UNION AVE|27589|\n",
      "|             40TH ST| 3343|\n",
      "|            AVENUE H| 2702|\n",
      "|            122ND ST|  829|\n",
      "|           EVANS AVE|14524|\n",
      "|           MEADE AVE| 4891|\n",
      "|          Fremont St|   22|\n",
      "+--------------------+-----+\n",
      "only showing top 20 rows\n",
      "\n"
     ]
    }
   ],
   "source": [
    "crimes.groupBy (f.col('new_block')).count().show()"
   ]
  },
  {
   "cell_type": "markdown",
   "id": "64269ec4-90a2-47f9-b6de-550fbc9db08a",
   "metadata": {},
   "source": [
    "### Which community areas have the most crimes?"
   ]
  },
  {
   "cell_type": "code",
   "execution_count": 108,
   "id": "c5efe77d-ceee-4f21-84cf-260e0f7c6d75",
   "metadata": {},
   "outputs": [
    {
     "name": "stdout",
     "output_type": "stream",
     "text": [
      "+--------------+-------+\n",
      "|Community Area|  count|\n",
      "+--------------+-------+\n",
      "|            25|1088077|\n",
      "|             8| 275690|\n",
      "|            43| 253776|\n",
      "|            28| 238624|\n",
      "|            23| 238470|\n",
      "|            24| 226161|\n",
      "|            29| 223882|\n",
      "|            71| 216717|\n",
      "|            67| 214612|\n",
      "|            49| 202402|\n",
      "|            68| 197640|\n",
      "|            32| 196094|\n",
      "|            69| 191469|\n",
      "|            66| 185352|\n",
      "|            44| 170206|\n",
      "|            22| 159068|\n",
      "|             6| 158398|\n",
      "|            61| 152894|\n",
      "|            26| 143289|\n",
      "|            27| 142484|\n",
      "+--------------+-------+\n",
      "only showing top 20 rows\n",
      "\n"
     ]
    }
   ],
   "source": [
    "crimes.groupBy (f.col('Community Area')).count().orderBy(\"count\", ascending=False).show()"
   ]
  },
  {
   "cell_type": "markdown",
   "id": "d68b44ee-7d93-4dc4-8d6c-88fc12a67fdc",
   "metadata": {},
   "source": [
    "### Compare crime count by Community Area over Year"
   ]
  },
  {
   "cell_type": "code",
   "execution_count": 129,
   "id": "6872a369-b5f7-4249-b5ab-c843329b3d36",
   "metadata": {},
   "outputs": [
    {
     "name": "stdout",
     "output_type": "stream",
     "text": [
      "+--------------+----+------+\n",
      "|Community Area|Year| count|\n",
      "+--------------+----+------+\n",
      "|            25|2001|479889|\n",
      "|            25|2002|153736|\n",
      "|            25|2003| 30888|\n",
      "|            25|2004| 29558|\n",
      "|            25|2006| 28947|\n",
      "|            25|2007| 28702|\n",
      "|            25|2005| 28434|\n",
      "|            25|2008| 27515|\n",
      "|            25|2009| 26266|\n",
      "|            25|2010| 24492|\n",
      "|            25|2011| 22918|\n",
      "|            25|2012| 21405|\n",
      "|            25|2013| 20277|\n",
      "|            25|2014| 18826|\n",
      "|            25|2015| 17435|\n",
      "|            25|2016| 16813|\n",
      "|            28|2003| 15807|\n",
      "|             8|2004| 15760|\n",
      "|            23|2003| 15498|\n",
      "|            25|2017| 15474|\n",
      "+--------------+----+------+\n",
      "only showing top 20 rows\n",
      "\n"
     ]
    }
   ],
   "source": [
    "crimes.groupBy(\"Community Area\", \"Year\") \\\n",
    "      .count() \\\n",
    "      .orderBy(\"count\",ascending=False) \\\n",
    "      .show()\n"
   ]
  },
  {
   "cell_type": "markdown",
   "id": "a4e95214-bda9-47d5-bf84-22ae30ce7f84",
   "metadata": {},
   "source": [
    "### the percentage of cases that resulted in an arrest for each type of crime"
   ]
  },
  {
   "cell_type": "code",
   "execution_count": 132,
   "id": "e32d6ed5-6d25-4c2a-87e7-47376a6f4056",
   "metadata": {},
   "outputs": [
    {
     "name": "stdout",
     "output_type": "stream",
     "text": [
      "+---------------------------------+-------------------+\n",
      "|Primary Type                     |arrest_rate        |\n",
      "+---------------------------------+-------------------+\n",
      "|DOMESTIC VIOLENCE                |1.0                |\n",
      "|PROSTITUTION                     |0.9957336063825248 |\n",
      "|NARCOTICS                        |0.9936448838948947 |\n",
      "|GAMBLING                         |0.9927674672489083 |\n",
      "|LIQUOR LAW VIOLATION             |0.9905882352941177 |\n",
      "|PUBLIC INDECENCY                 |0.9813084112149533 |\n",
      "|CONCEALED CARRY LICENSE VIOLATION|0.966818477553676  |\n",
      "|INTERFERENCE WITH PUBLIC OFFICER |0.9166750833249167 |\n",
      "|OBSCENITY                        |0.7454153182308522 |\n",
      "|WEAPONS VIOLATION                |0.724750304705969  |\n",
      "|CRIMINAL TRESPASS                |0.6829734863686224 |\n",
      "|OTHER NARCOTIC VIOLATION         |0.6624203821656051 |\n",
      "|PUBLIC PEACE VIOLATION           |0.6249585253456221 |\n",
      "|HOMICIDE                         |0.47854545454545455|\n",
      "|NON-CRIMINAL (SUBJECT SPECIFIED) |0.3333333333333333 |\n",
      "|SEX OFFENSE                      |0.2567418576238863 |\n",
      "|BATTERY                          |0.21697884593924835|\n",
      "|ASSAULT                          |0.20373321973505368|\n",
      "|OFFENSE INVOLVING CHILDREN       |0.19400107303333108|\n",
      "|OTHER OFFENSE                    |0.17660552230160262|\n",
      "+---------------------------------+-------------------+\n",
      "only showing top 20 rows\n",
      "\n"
     ]
    }
   ],
   "source": [
    "crimes.groupBy(\"Primary Type\") \\\n",
    "      .agg(f.avg(f.col(\"Arrest\").cast(\"int\")).alias(\"arrest_rate\")) \\\n",
    "      .orderBy(\"arrest_rate\", ascending=False) \\\n",
    "      .show(truncate=False)"
   ]
  },
  {
   "cell_type": "code",
   "execution_count": null,
   "id": "2891e486-3170-4f38-9eac-8a4915f0cc58",
   "metadata": {},
   "outputs": [],
   "source": []
  }
 ],
 "metadata": {
  "kernelspec": {
   "display_name": "Python 3 (ipykernel)",
   "language": "python",
   "name": "python3"
  },
  "language_info": {
   "codemirror_mode": {
    "name": "ipython",
    "version": 3
   },
   "file_extension": ".py",
   "mimetype": "text/x-python",
   "name": "python",
   "nbconvert_exporter": "python",
   "pygments_lexer": "ipython3",
   "version": "3.11.6"
  }
 },
 "nbformat": 4,
 "nbformat_minor": 5
}
